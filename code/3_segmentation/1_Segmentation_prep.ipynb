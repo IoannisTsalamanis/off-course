{
 "cells": [
  {
   "cell_type": "markdown",
   "metadata": {},
   "source": [
    "# Preparing data for segmentation\n",
    "\n",
    "It is critical that any classification should be sufficiently robust so that it may be applied to the ships at any port or at any geographic area in open sea. As speed over ground (SOG) and rate of turn (ROT) do not suffer from these drawbacks they were chosen as more suitable inputs to the segmentation"
   ]
  },
  {
   "cell_type": "code",
   "execution_count": 1,
   "metadata": {},
   "outputs": [],
   "source": [
    "# base libraries\n",
    "import numpy as np\n",
    "import pandas as pd\n",
    "import datetime\n",
    "import matplotlib.pyplot as plt\n",
    "import os\n",
    "import json\n",
    "from random import randint"
   ]
  },
  {
   "cell_type": "code",
   "execution_count": 2,
   "metadata": {},
   "outputs": [],
   "source": [
    "config_path = os.path.abspath('..')\n",
    "\n",
    "with open(config_path + '/config.json', 'r') as f:\n",
    "    config = json.load(f)\n",
    "\n",
    "processing_path = config['DEFAULT']['processing_path']\n",
    "shipping_rot_filename = config['DEFAULT']['shipping_rot_filename']\n",
    "seg_prep_filename = config['DEFAULT']['seg_prep_filename']\n",
    "all_segment_variables_filename = config['DEFAULT']['all_segment_variables_filename']"
   ]
  },
  {
   "cell_type": "code",
   "execution_count": 3,
   "metadata": {},
   "outputs": [],
   "source": [
    "# import data\n",
    "dtype_dic = {'MMSI':int,'dt':'str', 'lat':'float', 'long':'float','SOG':'float', 'rot':'float', \n",
    "             'Type':'str', 'gross_tonnage':'float','vessel_name':'str', 'ETA':'str', 'POC_LOCODE':'str',\n",
    "             'last_port_LOCODE':'str', 'next_port_LOCODE':'str', 'status':'str','voyage_id':'float','tripid':int,\n",
    "            'in_hazmat':'str','out_hazmat':'str'}\n",
    "parse_dates = ['dt', 'ETA']\n",
    "\n",
    "shipping_data = pd.read_csv(processing_path + shipping_rot_filename,header = 0,delimiter = ',',dtype = dtype_dic, parse_dates=parse_dates)"
   ]
  },
  {
   "cell_type": "markdown",
   "metadata": {},
   "source": [
    "To remove noise created by smaller ships such as tugs and ferries, only consider the following ship types; Container ships, General cargo ships, Chemical / oil product tankers, Cargo ships and Bulk carriers"
   ]
  },
  {
   "cell_type": "code",
   "execution_count": 4,
   "metadata": {},
   "outputs": [],
   "source": [
    "extract_mask = (shipping_data['Type'] == 'container ship') | (shipping_data['Type'] == 'general cargo ship') | (shipping_data['Type'] == 'chemical / oil product tanker') | (shipping_data['Type'] == 'cargo ship') | (shipping_data['Type'] == 'bulk carrier')\n",
    "shipping_data = shipping_data[extract_mask].copy(deep = True)"
   ]
  },
  {
   "cell_type": "code",
   "execution_count": 5,
   "metadata": {},
   "outputs": [],
   "source": [
    "# keep only the fields needed for segmentation and drop rows with a missing rot field\n",
    "seg_prep = shipping_data[['MMSI','dt','tripid','SOG','rot']]\n",
    "seg_prep = seg_prep.dropna(subset=['rot'])"
   ]
  },
  {
   "cell_type": "markdown",
   "metadata": {},
   "source": [
    "## Distribution of SOG and ROT\n",
    "\n",
    "Histograms of the SOG and ROT values are created and converted into two state vectors, SOG and ROT. Essentially each state vector represents a historical distribution of the individual SOG and ROT values across the preceding two minutes. The bin boundaries for the SOG and ROT state vectors were selected to ensure approximately equal quantile population density across the entire training dataset."
   ]
  },
  {
   "cell_type": "code",
   "execution_count": 6,
   "metadata": {},
   "outputs": [
    {
     "data": {
      "image/png": "[encoded data removed]",
      "text/plain": [
       "<matplotlib.figure.Figure at 0x1853ed550>"
      ]
     },
     "metadata": {},
     "output_type": "display_data"
    }
   ],
   "source": [
    "seg_prep['SOG'].hist(range=(0,10))\n",
    "plt.show()"
   ]
  },
  {
   "cell_type": "code",
   "execution_count": 7,
   "metadata": {},
   "outputs": [],
   "source": [
    "# the histogram suggests the following\n",
    "bin_max_sog = seg_prep['SOG'].max()+1\n",
    "bins_sog = [-1,0,1,2,3,5,10,bin_max_sog]\n",
    "groups_sog = ['0','1','2','3','4','5','6']"
   ]
  },
  {
   "cell_type": "code",
   "execution_count": 8,
   "metadata": {},
   "outputs": [
    {
     "data": {
      "image/png": "[encoded data removed]",
      "text/plain": [
       "<matplotlib.figure.Figure at 0x1247601d0>"
      ]
     },
     "metadata": {},
     "output_type": "display_data"
    }
   ],
   "source": [
    "seg_prep['rot'].dropna().hist(range=(0,40))\n",
    "plt.show()"
   ]
  },
  {
   "cell_type": "code",
   "execution_count": 9,
   "metadata": {},
   "outputs": [],
   "source": [
    "# the histogram suggests the following\n",
    "bin_max_rot = seg_prep['rot'].max()+1\n",
    "bins_rot = [-1, 0.1, 0.6, 2.5, 8, bin_max_rot]\n",
    "groups_rot = ['0','1','2','3','4']"
   ]
  },
  {
   "cell_type": "code",
   "execution_count": 10,
   "metadata": {},
   "outputs": [],
   "source": [
    "def get_state_space_dist(df,variable,bins,groups):\n",
    "    \n",
    "    \"\"\"\n",
    "    Cuts a variable into the specified bins and derives a dummy variable for each bin\n",
    "    Parameters\n",
    "      df: a dataframe containing the variable to cut\n",
    "      variable: a variable to cut\n",
    "      df_new: the name of the new dataframe\n",
    "      bins: the bin boundaries\n",
    "      groups: the label for each bin\n",
    "      \n",
    "    Returns a dataframe with a column for each bin\n",
    "    \"\"\"\n",
    "    \n",
    "    df_new = pd.cut(df[variable], bins, labels=groups)\n",
    "    df_new = pd.get_dummies(df_new, prefix=variable)\n",
    "\n",
    "    df_new = df[['MMSI','dt']].merge(df_new,left_index = True,right_index = True,how = 'inner')\n",
    "    \n",
    "    df_new = df_new.set_index(['MMSI','dt'])\n",
    "    \n",
    "    return df_new"
   ]
  },
  {
   "cell_type": "code",
   "execution_count": 11,
   "metadata": {},
   "outputs": [],
   "source": [
    "sog = get_state_space_dist(seg_prep,'SOG',bins_sog,groups_sog)"
   ]
  },
  {
   "cell_type": "code",
   "execution_count": 12,
   "metadata": {},
   "outputs": [],
   "source": [
    "rot = get_state_space_dist(seg_prep,'rot',bins_rot,groups_rot)"
   ]
  },
  {
   "cell_type": "code",
   "execution_count": 13,
   "metadata": {},
   "outputs": [],
   "source": [
    "seg_variables = sog.merge(rot,left_index = True,right_index = True,how = 'inner')"
   ]
  },
  {
   "cell_type": "markdown",
   "metadata": {},
   "source": [
    "## Random window selection\n",
    "\n",
    "A segmentaton could be built based on each timestamp taken in isolation at every point along the track of each ship. However this would likely lead to noisy segments with very few containing unique or intuitive behaviours. As this approach treats each AIS data point in isolation, with no consideration given to the relationship between points over time, it is overly sensitive to noise within the AIS data, caused by atmospheric effects, obsolete equipment or on-board interference.\n",
    "\n",
    "A more robust approach is to add a time-based aggregated component to the SOG and ROT fields that reduces the sensitivity of the segmentation to AIS signal noise. For each journey, a random two-minute slice of AIS data is taken during the voyage. "
   ]
  },
  {
   "cell_type": "code",
   "execution_count": 14,
   "metadata": {},
   "outputs": [],
   "source": [
    "# only want to build the segmentation on the in port data\n",
    "seg_variables_ip = seg_variables.reset_index()\n",
    "in_port = shipping_data[shipping_data.status == 'In Port']\n",
    "seg_variables_ip = seg_variables_ip.merge(in_port[['MMSI','dt']], how = 'inner', on = ['MMSI','dt'])\n",
    "seg_variables_ip = seg_variables_ip.set_index(['MMSI','dt'])"
   ]
  },
  {
   "cell_type": "code",
   "execution_count": 15,
   "metadata": {},
   "outputs": [],
   "source": [
    "# define the window length in seconds\n",
    "window_duration = 120\n",
    "nloops = 20\n",
    "# unique list of MMSIs\n",
    "mmsi_list = set(shipping_data['MMSI'][shipping_data.status == 'In Port'])"
   ]
  },
  {
   "cell_type": "code",
   "execution_count": 16,
   "metadata": {},
   "outputs": [],
   "source": [
    "# create an empty dictionary to add summarised results to\n",
    "sog_rot_dict = {}\n",
    "\n",
    "for i in range(0,nloops):\n",
    "\n",
    "    # loop through each MMSI and extract a portion of points\n",
    "    # the end point is random, the start point is defined by 'window_duration'\n",
    "    for curr_mmsi in mmsi_list:\n",
    "\n",
    "        tmp1 = seg_variables_ip.loc[curr_mmsi]\n",
    "\n",
    "        # get end of extract window based on a random row for the extracted data and find the associated \n",
    "        # time stamp of this window\n",
    "        end_idx = randint(0, (tmp1.shape[0]-1))\n",
    "        window_end = tmp1.index[end_idx]\n",
    "\n",
    "        # get start date of the extract window, this is the window_end minus the user defined window_duration\n",
    "        window_start = window_end - datetime.timedelta(seconds = window_duration)      \n",
    "\n",
    "        # extract the points that fall within the extract window\n",
    "        tmp2 = tmp1.loc[window_start:window_end]\n",
    "\n",
    "        # aggregate to a total across the 2 min window tmp2 is a series\n",
    "        tmp2 = tmp2.sum()\n",
    "        \n",
    "        sog_rot_dict[(curr_mmsi,window_end)] = tmp2.to_dict()"
   ]
  },
  {
   "cell_type": "code",
   "execution_count": 17,
   "metadata": {},
   "outputs": [],
   "source": [
    "# convert the dictionary to a dataframe\n",
    "seg_prep_rand = pd.DataFrame.from_dict(sog_rot_dict, \"index\")"
   ]
  },
  {
   "cell_type": "code",
   "execution_count": 18,
   "metadata": {},
   "outputs": [],
   "source": [
    "# function to convert a value to the percentage of the row total\n",
    "def get_pct(x):\n",
    "    return(x/(x.sum()))"
   ]
  },
  {
   "cell_type": "code",
   "execution_count": 19,
   "metadata": {},
   "outputs": [],
   "source": [
    "sog_rand = seg_prep_rand[['SOG_0','SOG_1','SOG_2','SOG_3','SOG_4','SOG_5', 'SOG_6']]\n",
    "sog_rand = sog_rand.apply(get_pct,axis = 1)"
   ]
  },
  {
   "cell_type": "code",
   "execution_count": 20,
   "metadata": {},
   "outputs": [],
   "source": [
    "rot_rand = seg_prep_rand[['rot_0','rot_1','rot_2','rot_3','rot_4']]\n",
    "rot_rand = rot_rand.apply(get_pct,axis = 1)"
   ]
  },
  {
   "cell_type": "code",
   "execution_count": 21,
   "metadata": {},
   "outputs": [],
   "source": [
    "seg_prep_rand = sog_rand.merge(rot_rand,left_index = True,right_index = True,how = 'inner')"
   ]
  },
  {
   "cell_type": "markdown",
   "metadata": {},
   "source": [
    "## Data Extract"
   ]
  },
  {
   "cell_type": "code",
   "execution_count": 22,
   "metadata": {},
   "outputs": [],
   "source": [
    "# exporting sample data for applying k means clustering and deciding final segments\n",
    "seg_prep_rand.to_csv(processing_path + seg_prep_filename,header=True,index=True,sep=',')"
   ]
  },
  {
   "cell_type": "code",
   "execution_count": 23,
   "metadata": {},
   "outputs": [
    {
     "data": {
      "text/html": [
       "<div>\n",
       "<style scoped>\n",
       "    .dataframe tbody tr th:only-of-type {\n",
       "        vertical-align: middle;\n",
       "    }\n",
       "\n",
       "    .dataframe tbody tr th {\n",
       "        vertical-align: top;\n",
       "    }\n",
       "\n",
       "    .dataframe thead th {\n",
       "        text-align: right;\n",
       "    }\n",
       "</style>\n",
       "<table border=\"1\" class=\"dataframe\">\n",
       "  <thead>\n",
       "    <tr style=\"text-align: right;\">\n",
       "      <th></th>\n",
       "      <th>SOG_0</th>\n",
       "      <th>SOG_1</th>\n",
       "      <th>SOG_2</th>\n",
       "      <th>SOG_3</th>\n",
       "      <th>SOG_4</th>\n",
       "      <th>SOG_5</th>\n",
       "      <th>SOG_6</th>\n",
       "      <th>rot_0</th>\n",
       "      <th>rot_1</th>\n",
       "      <th>rot_2</th>\n",
       "      <th>rot_3</th>\n",
       "      <th>rot_4</th>\n",
       "    </tr>\n",
       "  </thead>\n",
       "  <tbody>\n",
       "    <tr>\n",
       "      <th>count</th>\n",
       "      <td>13413.000000</td>\n",
       "      <td>13413.000000</td>\n",
       "      <td>13413.000000</td>\n",
       "      <td>13413.000000</td>\n",
       "      <td>13413.000000</td>\n",
       "      <td>13413.000000</td>\n",
       "      <td>13413.000000</td>\n",
       "      <td>13413.000000</td>\n",
       "      <td>13413.000000</td>\n",
       "      <td>13413.000000</td>\n",
       "      <td>13413.000000</td>\n",
       "      <td>13413.000000</td>\n",
       "    </tr>\n",
       "    <tr>\n",
       "      <th>mean</th>\n",
       "      <td>0.101058</td>\n",
       "      <td>0.147689</td>\n",
       "      <td>0.056167</td>\n",
       "      <td>0.042752</td>\n",
       "      <td>0.065424</td>\n",
       "      <td>0.551635</td>\n",
       "      <td>0.035275</td>\n",
       "      <td>0.370972</td>\n",
       "      <td>0.361034</td>\n",
       "      <td>0.136384</td>\n",
       "      <td>0.074582</td>\n",
       "      <td>0.057028</td>\n",
       "    </tr>\n",
       "    <tr>\n",
       "      <th>std</th>\n",
       "      <td>0.289052</td>\n",
       "      <td>0.334792</td>\n",
       "      <td>0.203728</td>\n",
       "      <td>0.176596</td>\n",
       "      <td>0.226062</td>\n",
       "      <td>0.487442</td>\n",
       "      <td>0.172054</td>\n",
       "      <td>0.291551</td>\n",
       "      <td>0.268156</td>\n",
       "      <td>0.203185</td>\n",
       "      <td>0.157564</td>\n",
       "      <td>0.152764</td>\n",
       "    </tr>\n",
       "    <tr>\n",
       "      <th>min</th>\n",
       "      <td>0.000000</td>\n",
       "      <td>0.000000</td>\n",
       "      <td>0.000000</td>\n",
       "      <td>0.000000</td>\n",
       "      <td>0.000000</td>\n",
       "      <td>0.000000</td>\n",
       "      <td>0.000000</td>\n",
       "      <td>0.000000</td>\n",
       "      <td>0.000000</td>\n",
       "      <td>0.000000</td>\n",
       "      <td>0.000000</td>\n",
       "      <td>0.000000</td>\n",
       "    </tr>\n",
       "    <tr>\n",
       "      <th>25%</th>\n",
       "      <td>0.000000</td>\n",
       "      <td>0.000000</td>\n",
       "      <td>0.000000</td>\n",
       "      <td>0.000000</td>\n",
       "      <td>0.000000</td>\n",
       "      <td>0.000000</td>\n",
       "      <td>0.000000</td>\n",
       "      <td>0.100000</td>\n",
       "      <td>0.100000</td>\n",
       "      <td>0.000000</td>\n",
       "      <td>0.000000</td>\n",
       "      <td>0.000000</td>\n",
       "    </tr>\n",
       "    <tr>\n",
       "      <th>50%</th>\n",
       "      <td>0.000000</td>\n",
       "      <td>0.000000</td>\n",
       "      <td>0.000000</td>\n",
       "      <td>0.000000</td>\n",
       "      <td>0.000000</td>\n",
       "      <td>1.000000</td>\n",
       "      <td>0.000000</td>\n",
       "      <td>0.333333</td>\n",
       "      <td>0.363636</td>\n",
       "      <td>0.000000</td>\n",
       "      <td>0.000000</td>\n",
       "      <td>0.000000</td>\n",
       "    </tr>\n",
       "    <tr>\n",
       "      <th>75%</th>\n",
       "      <td>0.000000</td>\n",
       "      <td>0.000000</td>\n",
       "      <td>0.000000</td>\n",
       "      <td>0.000000</td>\n",
       "      <td>0.000000</td>\n",
       "      <td>1.000000</td>\n",
       "      <td>0.000000</td>\n",
       "      <td>0.583333</td>\n",
       "      <td>0.583333</td>\n",
       "      <td>0.230769</td>\n",
       "      <td>0.076923</td>\n",
       "      <td>0.000000</td>\n",
       "    </tr>\n",
       "    <tr>\n",
       "      <th>max</th>\n",
       "      <td>1.000000</td>\n",
       "      <td>1.000000</td>\n",
       "      <td>1.000000</td>\n",
       "      <td>1.000000</td>\n",
       "      <td>1.000000</td>\n",
       "      <td>1.000000</td>\n",
       "      <td>1.000000</td>\n",
       "      <td>1.000000</td>\n",
       "      <td>1.000000</td>\n",
       "      <td>1.000000</td>\n",
       "      <td>1.000000</td>\n",
       "      <td>1.000000</td>\n",
       "    </tr>\n",
       "  </tbody>\n",
       "</table>\n",
       "</div>"
      ],
      "text/plain": [
       "              SOG_0         SOG_1         SOG_2         SOG_3         SOG_4  \\\n",
       "count  13413.000000  13413.000000  13413.000000  13413.000000  13413.000000   \n",
       "mean       0.101058      0.147689      0.056167      0.042752      0.065424   \n",
       "std        0.289052      0.334792      0.203728      0.176596      0.226062   \n",
       "min        0.000000      0.000000      0.000000      0.000000      0.000000   \n",
       "25%        0.000000      0.000000      0.000000      0.000000      0.000000   \n",
       "50%        0.000000      0.000000      0.000000      0.000000      0.000000   \n",
       "75%        0.000000      0.000000      0.000000      0.000000      0.000000   \n",
       "max        1.000000      1.000000      1.000000      1.000000      1.000000   \n",
       "\n",
       "              SOG_5         SOG_6         rot_0         rot_1         rot_2  \\\n",
       "count  13413.000000  13413.000000  13413.000000  13413.000000  13413.000000   \n",
       "mean       0.551635      0.035275      0.370972      0.361034      0.136384   \n",
       "std        0.487442      0.172054      0.291551      0.268156      0.203185   \n",
       "min        0.000000      0.000000      0.000000      0.000000      0.000000   \n",
       "25%        0.000000      0.000000      0.100000      0.100000      0.000000   \n",
       "50%        1.000000      0.000000      0.333333      0.363636      0.000000   \n",
       "75%        1.000000      0.000000      0.583333      0.583333      0.230769   \n",
       "max        1.000000      1.000000      1.000000      1.000000      1.000000   \n",
       "\n",
       "              rot_3         rot_4  \n",
       "count  13413.000000  13413.000000  \n",
       "mean       0.074582      0.057028  \n",
       "std        0.157564      0.152764  \n",
       "min        0.000000      0.000000  \n",
       "25%        0.000000      0.000000  \n",
       "50%        0.000000      0.000000  \n",
       "75%        0.076923      0.000000  \n",
       "max        1.000000      1.000000  "
      ]
     },
     "execution_count": 23,
     "metadata": {},
     "output_type": "execute_result"
    }
   ],
   "source": [
    "seg_prep_rand.describe()"
   ]
  },
  {
   "cell_type": "code",
   "execution_count": 24,
   "metadata": {},
   "outputs": [],
   "source": [
    "# exporting all data with sog and rot banding for applying segmentation\n",
    "seg_variables.to_csv(processing_path + all_segment_variables_filename,header=True,index=True,sep=',')"
   ]
  },
  {
   "cell_type": "code",
   "execution_count": 25,
   "metadata": {},
   "outputs": [
    {
     "data": {
      "text/html": [
       "<div>\n",
       "<style scoped>\n",
       "    .dataframe tbody tr th:only-of-type {\n",
       "        vertical-align: middle;\n",
       "    }\n",
       "\n",
       "    .dataframe tbody tr th {\n",
       "        vertical-align: top;\n",
       "    }\n",
       "\n",
       "    .dataframe thead th {\n",
       "        text-align: right;\n",
       "    }\n",
       "</style>\n",
       "<table border=\"1\" class=\"dataframe\">\n",
       "  <thead>\n",
       "    <tr style=\"text-align: right;\">\n",
       "      <th></th>\n",
       "      <th>SOG_0</th>\n",
       "      <th>SOG_1</th>\n",
       "      <th>SOG_2</th>\n",
       "      <th>SOG_3</th>\n",
       "      <th>SOG_4</th>\n",
       "      <th>SOG_5</th>\n",
       "      <th>SOG_6</th>\n",
       "      <th>rot_0</th>\n",
       "      <th>rot_1</th>\n",
       "      <th>rot_2</th>\n",
       "      <th>rot_3</th>\n",
       "      <th>rot_4</th>\n",
       "    </tr>\n",
       "  </thead>\n",
       "  <tbody>\n",
       "    <tr>\n",
       "      <th>count</th>\n",
       "      <td>3.299386e+06</td>\n",
       "      <td>3.299386e+06</td>\n",
       "      <td>3.299386e+06</td>\n",
       "      <td>3.299386e+06</td>\n",
       "      <td>3.299386e+06</td>\n",
       "      <td>3.299386e+06</td>\n",
       "      <td>3.299386e+06</td>\n",
       "      <td>3.299386e+06</td>\n",
       "      <td>3.299386e+06</td>\n",
       "      <td>3.299386e+06</td>\n",
       "      <td>3.299386e+06</td>\n",
       "      <td>3.299386e+06</td>\n",
       "    </tr>\n",
       "    <tr>\n",
       "      <th>mean</th>\n",
       "      <td>1.893598e-01</td>\n",
       "      <td>1.029637e-01</td>\n",
       "      <td>2.592634e-02</td>\n",
       "      <td>1.985430e-02</td>\n",
       "      <td>3.525323e-02</td>\n",
       "      <td>2.280194e-01</td>\n",
       "      <td>3.986233e-01</td>\n",
       "      <td>3.740496e-01</td>\n",
       "      <td>3.201756e-01</td>\n",
       "      <td>1.119023e-01</td>\n",
       "      <td>9.632004e-02</td>\n",
       "      <td>9.755239e-02</td>\n",
       "    </tr>\n",
       "    <tr>\n",
       "      <th>std</th>\n",
       "      <td>3.917942e-01</td>\n",
       "      <td>3.039115e-01</td>\n",
       "      <td>1.589156e-01</td>\n",
       "      <td>1.394995e-01</td>\n",
       "      <td>1.844192e-01</td>\n",
       "      <td>4.195552e-01</td>\n",
       "      <td>4.896150e-01</td>\n",
       "      <td>4.838766e-01</td>\n",
       "      <td>4.665440e-01</td>\n",
       "      <td>3.152463e-01</td>\n",
       "      <td>2.950297e-01</td>\n",
       "      <td>2.967085e-01</td>\n",
       "    </tr>\n",
       "    <tr>\n",
       "      <th>min</th>\n",
       "      <td>0.000000e+00</td>\n",
       "      <td>0.000000e+00</td>\n",
       "      <td>0.000000e+00</td>\n",
       "      <td>0.000000e+00</td>\n",
       "      <td>0.000000e+00</td>\n",
       "      <td>0.000000e+00</td>\n",
       "      <td>0.000000e+00</td>\n",
       "      <td>0.000000e+00</td>\n",
       "      <td>0.000000e+00</td>\n",
       "      <td>0.000000e+00</td>\n",
       "      <td>0.000000e+00</td>\n",
       "      <td>0.000000e+00</td>\n",
       "    </tr>\n",
       "    <tr>\n",
       "      <th>25%</th>\n",
       "      <td>0.000000e+00</td>\n",
       "      <td>0.000000e+00</td>\n",
       "      <td>0.000000e+00</td>\n",
       "      <td>0.000000e+00</td>\n",
       "      <td>0.000000e+00</td>\n",
       "      <td>0.000000e+00</td>\n",
       "      <td>0.000000e+00</td>\n",
       "      <td>0.000000e+00</td>\n",
       "      <td>0.000000e+00</td>\n",
       "      <td>0.000000e+00</td>\n",
       "      <td>0.000000e+00</td>\n",
       "      <td>0.000000e+00</td>\n",
       "    </tr>\n",
       "    <tr>\n",
       "      <th>50%</th>\n",
       "      <td>0.000000e+00</td>\n",
       "      <td>0.000000e+00</td>\n",
       "      <td>0.000000e+00</td>\n",
       "      <td>0.000000e+00</td>\n",
       "      <td>0.000000e+00</td>\n",
       "      <td>0.000000e+00</td>\n",
       "      <td>0.000000e+00</td>\n",
       "      <td>0.000000e+00</td>\n",
       "      <td>0.000000e+00</td>\n",
       "      <td>0.000000e+00</td>\n",
       "      <td>0.000000e+00</td>\n",
       "      <td>0.000000e+00</td>\n",
       "    </tr>\n",
       "    <tr>\n",
       "      <th>75%</th>\n",
       "      <td>0.000000e+00</td>\n",
       "      <td>0.000000e+00</td>\n",
       "      <td>0.000000e+00</td>\n",
       "      <td>0.000000e+00</td>\n",
       "      <td>0.000000e+00</td>\n",
       "      <td>0.000000e+00</td>\n",
       "      <td>1.000000e+00</td>\n",
       "      <td>1.000000e+00</td>\n",
       "      <td>1.000000e+00</td>\n",
       "      <td>0.000000e+00</td>\n",
       "      <td>0.000000e+00</td>\n",
       "      <td>0.000000e+00</td>\n",
       "    </tr>\n",
       "    <tr>\n",
       "      <th>max</th>\n",
       "      <td>1.000000e+00</td>\n",
       "      <td>1.000000e+00</td>\n",
       "      <td>1.000000e+00</td>\n",
       "      <td>1.000000e+00</td>\n",
       "      <td>1.000000e+00</td>\n",
       "      <td>1.000000e+00</td>\n",
       "      <td>1.000000e+00</td>\n",
       "      <td>1.000000e+00</td>\n",
       "      <td>1.000000e+00</td>\n",
       "      <td>1.000000e+00</td>\n",
       "      <td>1.000000e+00</td>\n",
       "      <td>1.000000e+00</td>\n",
       "    </tr>\n",
       "  </tbody>\n",
       "</table>\n",
       "</div>"
      ],
      "text/plain": [
       "              SOG_0         SOG_1         SOG_2         SOG_3         SOG_4  \\\n",
       "count  3.299386e+06  3.299386e+06  3.299386e+06  3.299386e+06  3.299386e+06   \n",
       "mean   1.893598e-01  1.029637e-01  2.592634e-02  1.985430e-02  3.525323e-02   \n",
       "std    3.917942e-01  3.039115e-01  1.589156e-01  1.394995e-01  1.844192e-01   \n",
       "min    0.000000e+00  0.000000e+00  0.000000e+00  0.000000e+00  0.000000e+00   \n",
       "25%    0.000000e+00  0.000000e+00  0.000000e+00  0.000000e+00  0.000000e+00   \n",
       "50%    0.000000e+00  0.000000e+00  0.000000e+00  0.000000e+00  0.000000e+00   \n",
       "75%    0.000000e+00  0.000000e+00  0.000000e+00  0.000000e+00  0.000000e+00   \n",
       "max    1.000000e+00  1.000000e+00  1.000000e+00  1.000000e+00  1.000000e+00   \n",
       "\n",
       "              SOG_5         SOG_6         rot_0         rot_1         rot_2  \\\n",
       "count  3.299386e+06  3.299386e+06  3.299386e+06  3.299386e+06  3.299386e+06   \n",
       "mean   2.280194e-01  3.986233e-01  3.740496e-01  3.201756e-01  1.119023e-01   \n",
       "std    4.195552e-01  4.896150e-01  4.838766e-01  4.665440e-01  3.152463e-01   \n",
       "min    0.000000e+00  0.000000e+00  0.000000e+00  0.000000e+00  0.000000e+00   \n",
       "25%    0.000000e+00  0.000000e+00  0.000000e+00  0.000000e+00  0.000000e+00   \n",
       "50%    0.000000e+00  0.000000e+00  0.000000e+00  0.000000e+00  0.000000e+00   \n",
       "75%    0.000000e+00  1.000000e+00  1.000000e+00  1.000000e+00  0.000000e+00   \n",
       "max    1.000000e+00  1.000000e+00  1.000000e+00  1.000000e+00  1.000000e+00   \n",
       "\n",
       "              rot_3         rot_4  \n",
       "count  3.299386e+06  3.299386e+06  \n",
       "mean   9.632004e-02  9.755239e-02  \n",
       "std    2.950297e-01  2.967085e-01  \n",
       "min    0.000000e+00  0.000000e+00  \n",
       "25%    0.000000e+00  0.000000e+00  \n",
       "50%    0.000000e+00  0.000000e+00  \n",
       "75%    0.000000e+00  0.000000e+00  \n",
       "max    1.000000e+00  1.000000e+00  "
      ]
     },
     "execution_count": 25,
     "metadata": {},
     "output_type": "execute_result"
    }
   ],
   "source": [
    "seg_variables.describe()"
   ]
  }
 ],
 "metadata": {
  "kernelspec": {
   "display_name": "Python 3",
   "language": "python",
   "name": "python3"
  },
  "language_info": {
   "codemirror_mode": {
    "name": "ipython",
    "version": 3
   },
   "file_extension": ".py",
   "mimetype": "text/x-python",
   "name": "python",
   "nbconvert_exporter": "python",
   "pygments_lexer": "ipython3",
   "version": "3.6.4"
  }
 },
 "nbformat": 4,
 "nbformat_minor": 2
}
