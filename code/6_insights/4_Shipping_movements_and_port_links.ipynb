{
 "cells": [
  {
   "cell_type": "markdown",
   "metadata": {},
   "source": [
    "# Shipping movements and port links\n",
    "\n",
    "The relationship between shipping movements for the ports of Belfast, Felixstowe and Milford Heaven are shown below. These show common port links for outbound journeys (as a percentage of total voyages). It can be seen that all three ports serve very different geographic regions. The ships leaving the port of Belfast predominantly sail to destinations within UK waters, with 60% of ships sailing to the ports of Loch Ryan, Birkenhead and Heysham. Ships leaving the port of Felixstowe generally travel to ports within the continental mainland with nearly 70% terminating at the ports of Rotterdam, Antwerp, Hamburg, Bremerhaven and Amsterdam. Milford Heaven almost exclusively serves international destinations, with 88% of ships sailing to unspecified international ports, New York and Ras Laffen in Qatar. "
   ]
  },
  {
   "cell_type": "code",
   "execution_count": 1,
   "metadata": {},
   "outputs": [],
   "source": [
    "# base libraries\n",
    "import numpy as np\n",
    "import pandas as pd\n",
    "import datetime\n",
    "import os\n",
    "import json\n",
    "import matplotlib.pyplot as plt\n",
    "import seaborn as sns"
   ]
  },
  {
   "cell_type": "code",
   "execution_count": 2,
   "metadata": {},
   "outputs": [],
   "source": [
    "# set variable from config file\n",
    "config_path = os.path.abspath('..')\n",
    "\n",
    "with open(config_path + '/config.json', 'r') as f:\n",
    "    config = json.load(f)\n",
    "\n",
    "cers_path = config['DEFAULT']['cers_path']\n",
    "cers_filename = config['DEFAULT']['cers_filename']\n",
    "port_filename = config['DEFAULT']['port_filename']"
   ]
  },
  {
   "cell_type": "code",
   "execution_count": 3,
   "metadata": {},
   "outputs": [],
   "source": [
    "# import CERS and port datasets\n",
    "cers = pd.read_csv(cers_path+cers_filename,header = 0,delimiter = ',')\n",
    "cers['ETA'] = pd.to_datetime(cers[\"ETA\"])\n",
    "cers['ETA_date'] = cers['ETA'].dt.date\n",
    "cers.drop_duplicates(keep = 'last',inplace = True)\n",
    "\n",
    "ports = pd.read_csv(cers_path+port_filename,header = 0,delimiter = ',')"
   ]
  },
  {
   "cell_type": "code",
   "execution_count": 4,
   "metadata": {},
   "outputs": [],
   "source": [
    "cers = cers.merge(ports[['LOCODE','Name']], how = 'inner', left_on = 'POC_LOCODE', right_on = 'LOCODE')\n",
    "cers.drop('LOCODE',axis = 1, inplace=True)\n",
    "cers.rename(columns={'Name':'POC_name'},inplace=True)\n",
    "cers = cers.merge(ports[['LOCODE','Name']], how = 'left', left_on = 'next_port_LOCODE', right_on = 'LOCODE')\n",
    "cers.rename(columns={'Name':'next_port_name'},inplace=True)"
   ]
  },
  {
   "cell_type": "code",
   "execution_count": 5,
   "metadata": {},
   "outputs": [],
   "source": [
    "port_lookup = {'ZZUKN':'Unknown Int','GBGRK':'Greenock','NLRTM':'Rotterdam','NLRTM':'Antwerp','DEHAM':'Hamburg',\n",
    "               'DEBRV':'Bremerhaven','BEANR':'Amsterdam','USNYC':'New York','QARLF':'Ras Laffen','NLMOE':'Moerdijk'}\n",
    "\n",
    "cers['next_port_name' ] = cers.apply(lambda row: (row['next_port_LOCODE'] if pd.isnull(row['next_port_name']) else row['next_port_name']),axis=1)\n",
    "cers['next_port_name' ] = cers['next_port_name'].replace(port_lookup)"
   ]
  },
  {
   "cell_type": "code",
   "execution_count": 6,
   "metadata": {},
   "outputs": [
    {
     "data": {
      "text/html": [
       "<div>\n",
       "<style scoped>\n",
       "    .dataframe tbody tr th:only-of-type {\n",
       "        vertical-align: middle;\n",
       "    }\n",
       "\n",
       "    .dataframe tbody tr th {\n",
       "        vertical-align: top;\n",
       "    }\n",
       "\n",
       "    .dataframe thead th {\n",
       "        text-align: right;\n",
       "    }\n",
       "</style>\n",
       "<table border=\"1\" class=\"dataframe\">\n",
       "  <thead>\n",
       "    <tr style=\"text-align: right;\">\n",
       "      <th></th>\n",
       "      <th>voyage_id</th>\n",
       "    </tr>\n",
       "    <tr>\n",
       "      <th>next_port_name</th>\n",
       "      <th></th>\n",
       "    </tr>\n",
       "  </thead>\n",
       "  <tbody>\n",
       "    <tr>\n",
       "      <th>Loch Ryan Pt</th>\n",
       "      <td>35</td>\n",
       "    </tr>\n",
       "    <tr>\n",
       "      <th>Birkenhead</th>\n",
       "      <td>15</td>\n",
       "    </tr>\n",
       "    <tr>\n",
       "      <th>Heysham</th>\n",
       "      <td>9</td>\n",
       "    </tr>\n",
       "    <tr>\n",
       "      <th>Unknown Int</th>\n",
       "      <td>5</td>\n",
       "    </tr>\n",
       "    <tr>\n",
       "      <th>Liverpool</th>\n",
       "      <td>2</td>\n",
       "    </tr>\n",
       "  </tbody>\n",
       "</table>\n",
       "</div>"
      ],
      "text/plain": [
       "                voyage_id\n",
       "next_port_name           \n",
       "Loch Ryan Pt           35\n",
       "Birkenhead             15\n",
       "Heysham                 9\n",
       "Unknown Int             5\n",
       "Liverpool               2"
      ]
     },
     "execution_count": 6,
     "metadata": {},
     "output_type": "execute_result"
    }
   ],
   "source": [
    "# get the significant links for Belfast\n",
    "belfast = cers[cers.POC_name == 'Belfast'].copy()\n",
    "belfast = belfast.groupby('next_port_name')['voyage_id'].count()\n",
    "belfast = belfast/belfast.sum()\n",
    "belfast = (belfast*100).astype(int)\n",
    "belfast = pd.DataFrame(belfast)\n",
    "belfast.sort_values(ascending=False, by = 'voyage_id').head()"
   ]
  },
  {
   "cell_type": "code",
   "execution_count": 7,
   "metadata": {},
   "outputs": [
    {
     "data": {
      "text/html": [
       "<div>\n",
       "<style scoped>\n",
       "    .dataframe tbody tr th:only-of-type {\n",
       "        vertical-align: middle;\n",
       "    }\n",
       "\n",
       "    .dataframe tbody tr th {\n",
       "        vertical-align: top;\n",
       "    }\n",
       "\n",
       "    .dataframe thead th {\n",
       "        text-align: right;\n",
       "    }\n",
       "</style>\n",
       "<table border=\"1\" class=\"dataframe\">\n",
       "  <thead>\n",
       "    <tr style=\"text-align: right;\">\n",
       "      <th></th>\n",
       "      <th>voyage_id</th>\n",
       "    </tr>\n",
       "    <tr>\n",
       "      <th>next_port_name</th>\n",
       "      <th></th>\n",
       "    </tr>\n",
       "  </thead>\n",
       "  <tbody>\n",
       "    <tr>\n",
       "      <th>Antwerp</th>\n",
       "      <td>51</td>\n",
       "    </tr>\n",
       "    <tr>\n",
       "      <th>Amsterdam</th>\n",
       "      <td>9</td>\n",
       "    </tr>\n",
       "    <tr>\n",
       "      <th>Hamburg</th>\n",
       "      <td>7</td>\n",
       "    </tr>\n",
       "    <tr>\n",
       "      <th>Bremerhaven</th>\n",
       "      <td>4</td>\n",
       "    </tr>\n",
       "    <tr>\n",
       "      <th>Teesport</th>\n",
       "      <td>3</td>\n",
       "    </tr>\n",
       "  </tbody>\n",
       "</table>\n",
       "</div>"
      ],
      "text/plain": [
       "                voyage_id\n",
       "next_port_name           \n",
       "Antwerp                51\n",
       "Amsterdam               9\n",
       "Hamburg                 7\n",
       "Bremerhaven             4\n",
       "Teesport                3"
      ]
     },
     "execution_count": 7,
     "metadata": {},
     "output_type": "execute_result"
    }
   ],
   "source": [
    "# get the significant links for Felixstowe\n",
    "felix = cers[cers.POC_name == 'Felixstowe'].copy()\n",
    "felix = felix.groupby('next_port_name')['voyage_id'].count()\n",
    "felix = felix/felix.sum()\n",
    "felix = (felix*100).astype(int)\n",
    "felix = pd.DataFrame(felix)\n",
    "felix.sort_values(ascending=False, by = 'voyage_id').head()"
   ]
  },
  {
   "cell_type": "code",
   "execution_count": 8,
   "metadata": {},
   "outputs": [
    {
     "data": {
      "text/html": [
       "<div>\n",
       "<style scoped>\n",
       "    .dataframe tbody tr th:only-of-type {\n",
       "        vertical-align: middle;\n",
       "    }\n",
       "\n",
       "    .dataframe tbody tr th {\n",
       "        vertical-align: top;\n",
       "    }\n",
       "\n",
       "    .dataframe thead th {\n",
       "        text-align: right;\n",
       "    }\n",
       "</style>\n",
       "<table border=\"1\" class=\"dataframe\">\n",
       "  <thead>\n",
       "    <tr style=\"text-align: right;\">\n",
       "      <th></th>\n",
       "      <th>voyage_id</th>\n",
       "    </tr>\n",
       "    <tr>\n",
       "      <th>next_port_name</th>\n",
       "      <th></th>\n",
       "    </tr>\n",
       "  </thead>\n",
       "  <tbody>\n",
       "    <tr>\n",
       "      <th>Unknown Int</th>\n",
       "      <td>86</td>\n",
       "    </tr>\n",
       "    <tr>\n",
       "      <th>GB888</th>\n",
       "      <td>4</td>\n",
       "    </tr>\n",
       "    <tr>\n",
       "      <th>Antwerp</th>\n",
       "      <td>1</td>\n",
       "    </tr>\n",
       "    <tr>\n",
       "      <th>CAMTR</th>\n",
       "      <td>0</td>\n",
       "    </tr>\n",
       "    <tr>\n",
       "      <th>CAQUE</th>\n",
       "      <td>0</td>\n",
       "    </tr>\n",
       "  </tbody>\n",
       "</table>\n",
       "</div>"
      ],
      "text/plain": [
       "                voyage_id\n",
       "next_port_name           \n",
       "Unknown Int            86\n",
       "GB888                   4\n",
       "Antwerp                 1\n",
       "CAMTR                   0\n",
       "CAQUE                   0"
      ]
     },
     "execution_count": 8,
     "metadata": {},
     "output_type": "execute_result"
    }
   ],
   "source": [
    "# get the significant links for Milford Heaven\n",
    "milford = cers[cers.POC_name == 'Milford Haven'].copy()\n",
    "milford = milford.groupby('next_port_name')['voyage_id'].count()\n",
    "milford = milford/milford.sum()\n",
    "milford = (milford*100).astype(int)\n",
    "milford = pd.DataFrame(milford)\n",
    "milford.sort_values(ascending=False, by = 'voyage_id').head()"
   ]
  }
 ],
 "metadata": {
  "kernelspec": {
   "display_name": "Python 3",
   "language": "python",
   "name": "python3"
  },
  "language_info": {
   "codemirror_mode": {
    "name": "ipython",
    "version": 3
   },
   "file_extension": ".py",
   "mimetype": "text/x-python",
   "name": "python",
   "nbconvert_exporter": "python",
   "pygments_lexer": "ipython3",
   "version": "3.6.4"
  }
 },
 "nbformat": 4,
 "nbformat_minor": 2
}
