{
 "cells": [
  {
   "cell_type": "markdown",
   "metadata": {},
   "source": [
    "# Predicting delays\n",
    "\n",
    "The next area of investigation focussed on predicting the likelihood that a ship would be delayed and arrive at its intended destination sometime after its estimated time of arrival. The objective of this study was not to develop an optimal model that could be used in a practical sense to predict delays, instead development followed a proof-of concept approach, where the capability to predict delays was demonstrated and the various features of the prediction identified."
   ]
  },
  {
   "cell_type": "code",
   "execution_count": 1,
   "metadata": {},
   "outputs": [],
   "source": [
    "# base libraries\n",
    "import pandas as pd\n",
    "import math\n",
    "import os\n",
    "import json\n",
    "import numpy as np\n",
    "import matplotlib.pyplot as plt"
   ]
  },
  {
   "cell_type": "code",
   "execution_count": 2,
   "metadata": {},
   "outputs": [],
   "source": [
    "from sklearn.model_selection import train_test_split\n",
    "from sklearn.metrics import confusion_matrix"
   ]
  },
  {
   "cell_type": "code",
   "execution_count": 3,
   "metadata": {},
   "outputs": [],
   "source": [
    "# set variable from config file\n",
    "config_path = os.path.abspath('..')\n",
    "\n",
    "with open(config_path + '/config.json', 'r') as f:\n",
    "    config = json.load(f)\n",
    "\n",
    "processing_path = config['DEFAULT']['processing_path']\n",
    "features_filename = config['DEFAULT']['features_filename']"
   ]
  },
  {
   "cell_type": "code",
   "execution_count": 4,
   "metadata": {},
   "outputs": [],
   "source": [
    "all_features = pd.read_csv(processing_path + features_filename,header = 0,delimiter = ',')\n",
    "all_features['dt'] = pd.to_datetime(all_features['dt'])\n",
    "all_features['ETA_new'] = pd.to_datetime(all_features['ETA_new'])\n",
    "all_features['ETA'] = pd.to_datetime(all_features['ETA'])"
   ]
  },
  {
   "cell_type": "code",
   "execution_count": 5,
   "metadata": {},
   "outputs": [],
   "source": [
    "# only keep records before the ship arrives\n",
    "dev_data = all_features[all_features.dt <= all_features.ETA].copy()"
   ]
  },
  {
   "cell_type": "code",
   "execution_count": 6,
   "metadata": {},
   "outputs": [],
   "source": [
    "# convert string fields about hazmat to boolean\n",
    "dev_data['in_hazmat'] = dev_data['in_hazmat'].map({'Yes':1,'No':0})\n",
    "dev_data['out_hazmat'] = dev_data['out_hazmat'].map({'Yes':1,'No':0})"
   ]
  },
  {
   "cell_type": "code",
   "execution_count": 7,
   "metadata": {},
   "outputs": [],
   "source": [
    "# Check for nulls and replace with 0 where appropriate\n",
    "dev_data.isnull().sum()\n",
    "dev_data['accel'].fillna(0,inplace = True)\n",
    "dev_data['previous_delays'].fillna(0,inplace = True)\n",
    "dev_data['seg_Docked'].fillna(0,inplace = True)\n",
    "dev_data['seg_Trans_general'].fillna(0,inplace = True)\n",
    "dev_data['seg_Docking_inital'].fillna(0,inplace = True)\n",
    "dev_data['seg_Docking_terminal'].fillna(0,inplace = True)\n",
    "dev_data['seg_Docking_mid'].fillna(0,inplace = True)\n",
    "dev_data['seg_Trans_border'].fillna(0,inplace = True)\n",
    "dev_data['port_dist'].fillna(-1,inplace = True)\n",
    "dev_data['sea_lev_pressure'].fillna(0,inplace = True)\n",
    "dev_data['visibility'].fillna(0,inplace = True)\n",
    "dev_data['wind_speed'].fillna(0,inplace = True)\n",
    "dev_data['max_temp'].fillna(0,inplace = True)\n",
    "dev_data['min_temp'].fillna(99,inplace = True)\n",
    "\n",
    "# check for INFs and replace with 0 where appropriate\n",
    "dev_data.replace([np.inf, -np.inf],np.nan,inplace = True)"
   ]
  },
  {
   "cell_type": "markdown",
   "metadata": {},
   "source": [
    "To mitigate the effects of extreme (large or small) delay rates and to compare predictive performance across models predicting the five different delay definitions (15, 30, 60, 90 and 120 mins), the development samples are balanced to contain equal numbers of delayed and non-delayed ships. A 20% test dataset  randomly sampled and stratified on the target delayed field so that balanced outcomes were maintained within both training and test datasets. The test dataset is used to independently test the performance of each model. Training and test performance are compared to ensure overfitting is not present."
   ]
  },
  {
   "cell_type": "code",
   "execution_count": 8,
   "metadata": {},
   "outputs": [],
   "source": [
    "dev_data.drop(['MMSI','dt','YEARMODA','rot','SOG','ETA_new','ETA','POC_LOCODE','Type','tripid',\n",
    "               'last_port_LOCODE','next_port_LOCODE','status','voyage_id','arrivalDelay','arrivalDelayMin',\n",
    "                'start_window','end_window','count','vessel_name',\n",
    "                'long','lat','station_pressure','dew_point','temp',\n",
    "                'max_wind_speed','fog_rain_driz_snow_ice',\n",
    "                'accel','HOD1','WOY1','MOY1','DOW1','MOH1', 'out_hazmat',\n",
    "                'HOD2','WOY2','MOY2','DOW2','MOH2','WOY','MOY','MOH',\n",
    "                'type_cargo_ship','type_container','type_general_cargo','type_unknown',\n",
    "                'pl_seg_Docked','pl_seg_Docking_inital','pl_seg_Docking_mid',\n",
    "                'pl_seg_Docking_terminal','pl_seg_Trans_border','pl_seg_Trans_general',\n",
    "                'pl_type_container','pl_type_dredger','pl_type_general_cargo',\n",
    "                'pl_type_passenger','pl_type_pilot','pl_type_sar','pl_type_unknown',\n",
    "                'pl_type_work_vessel','previous_delays','seg_Docked','seg_Trans_border',\n",
    "                'seg_Docking_terminal','seg_Trans_general','seg_Docking_mid','seg_Docking_inital'], \n",
    "              axis = 1, inplace = True)"
   ]
  },
  {
   "cell_type": "code",
   "execution_count": 9,
   "metadata": {},
   "outputs": [],
   "source": [
    "# extract all the delayed records\n",
    "dev_data_delayed = dev_data[dev_data['delay15'] == True]\n",
    "\n",
    "# extract all the ontime records\n",
    "dev_data_ontime = dev_data[dev_data['delay15'] == False]\n",
    "\n",
    "# take a sample of the delayed records\n",
    "dev_data_delayed_sample = dev_data_delayed.sample(len(dev_data_delayed),random_state = 1234,axis = 0)\n",
    "\n",
    "# concatenate the two datasets\n",
    "dev_data_balanced = pd.concat([dev_data_delayed_sample,dev_data_ontime])\n",
    "\n",
    "# randomise the dataset\n",
    "dev_data_balanced = dev_data_balanced.sample(len(dev_data_balanced),random_state = 1234,axis = 0)"
   ]
  },
  {
   "cell_type": "code",
   "execution_count": 10,
   "metadata": {},
   "outputs": [],
   "source": [
    "target = dev_data_balanced[['delay15']]\n",
    "features = dev_data_balanced.drop(['delay15','delay30','delay60','delay90','delay120'],axis=1)"
   ]
  },
  {
   "cell_type": "code",
   "execution_count": 11,
   "metadata": {},
   "outputs": [],
   "source": [
    "# split into train and test (80:20), maintain the balanced sample\n",
    "features_train,features_test,target_train,target_test = train_test_split(features,\n",
    "                                                                         target,\n",
    "                                                                         test_size = 0.2,\n",
    "                                                                         random_state = 1234,\n",
    "                                                                         stratify = target)"
   ]
  },
  {
   "cell_type": "markdown",
   "metadata": {},
   "source": [
    "## Training\n",
    "Several ensemble based machine learning classifiers are investigated including Random Forest, AdaBoost and Gradient Boosted Trees, the performance across all is broadly comparable. A slight performance increase is obtained with an XGBoost algorithm  using the default hyperparameters (maximum tree depth of two, 100 independent estimators and a learning rate of 0.05), this approach is used as the preferred approach. "
   ]
  },
  {
   "cell_type": "markdown",
   "metadata": {},
   "source": [
    "### Random Forest"
   ]
  },
  {
   "cell_type": "code",
   "execution_count": 12,
   "metadata": {},
   "outputs": [
    {
     "data": {
      "text/plain": [
       "RandomForestClassifier(bootstrap=True, class_weight=None, criterion='gini',\n",
       "            max_depth=None, max_features='auto', max_leaf_nodes=16,\n",
       "            min_impurity_decrease=0.0, min_impurity_split=None,\n",
       "            min_samples_leaf=1, min_samples_split=2,\n",
       "            min_weight_fraction_leaf=0.0, n_estimators=100, n_jobs=-1,\n",
       "            oob_score=False, random_state=1234, verbose=0,\n",
       "            warm_start=False)"
      ]
     },
     "execution_count": 12,
     "metadata": {},
     "output_type": "execute_result"
    }
   ],
   "source": [
    "from sklearn.ensemble import RandomForestClassifier\n",
    "\n",
    "# initialise the forest\n",
    "delays_forest = RandomForestClassifier(n_estimators = 100,\n",
    "                                       max_leaf_nodes = 16,\n",
    "                                       n_jobs = -1,\n",
    "                                       random_state = 1234)\n",
    "\n",
    "# train the forest\n",
    "delays_forest.fit(features_train, target_train['delay15'])"
   ]
  },
  {
   "cell_type": "code",
   "execution_count": 13,
   "metadata": {},
   "outputs": [
    {
     "data": {
      "text/plain": [
       "0.7011598149483023"
      ]
     },
     "execution_count": 13,
     "metadata": {},
     "output_type": "execute_result"
    }
   ],
   "source": [
    "# get the train accuracy(correct prediction rate)\n",
    "delays_forest.score(features_train,target_train)"
   ]
  },
  {
   "cell_type": "code",
   "execution_count": 14,
   "metadata": {},
   "outputs": [
    {
     "data": {
      "text/plain": [
       "array([[100868,  35590],\n",
       "       [ 42765,  82974]])"
      ]
     },
     "execution_count": 14,
     "metadata": {},
     "output_type": "execute_result"
    }
   ],
   "source": [
    "# get the training confusion matrix\n",
    "# score the train data first\n",
    "train_classified = delays_forest.predict(features_train)\n",
    "train_prob = delays_forest.predict_proba(features_train)\n",
    "confusion_matrix(target_train, train_classified)"
   ]
  },
  {
   "cell_type": "code",
   "execution_count": 15,
   "metadata": {},
   "outputs": [
    {
     "data": {
      "text/html": [
       "<div>\n",
       "<style scoped>\n",
       "    .dataframe tbody tr th:only-of-type {\n",
       "        vertical-align: middle;\n",
       "    }\n",
       "\n",
       "    .dataframe tbody tr th {\n",
       "        vertical-align: top;\n",
       "    }\n",
       "\n",
       "    .dataframe thead th {\n",
       "        text-align: right;\n",
       "    }\n",
       "</style>\n",
       "<table border=\"1\" class=\"dataframe\">\n",
       "  <thead>\n",
       "    <tr style=\"text-align: right;\">\n",
       "      <th></th>\n",
       "      <th>feature_name</th>\n",
       "      <th>feature_importance</th>\n",
       "    </tr>\n",
       "  </thead>\n",
       "  <tbody>\n",
       "    <tr>\n",
       "      <th>9</th>\n",
       "      <td>max_temp</td>\n",
       "      <td>0.230174</td>\n",
       "    </tr>\n",
       "    <tr>\n",
       "      <th>10</th>\n",
       "      <td>min_temp</td>\n",
       "      <td>0.124662</td>\n",
       "    </tr>\n",
       "    <tr>\n",
       "      <th>6</th>\n",
       "      <td>sea_lev_pressure</td>\n",
       "      <td>0.109673</td>\n",
       "    </tr>\n",
       "    <tr>\n",
       "      <th>0</th>\n",
       "      <td>gross_tonnage</td>\n",
       "      <td>0.109162</td>\n",
       "    </tr>\n",
       "    <tr>\n",
       "      <th>11</th>\n",
       "      <td>port_dist</td>\n",
       "      <td>0.105347</td>\n",
       "    </tr>\n",
       "    <tr>\n",
       "      <th>2</th>\n",
       "      <td>HOD</td>\n",
       "      <td>0.102861</td>\n",
       "    </tr>\n",
       "    <tr>\n",
       "      <th>7</th>\n",
       "      <td>visibility</td>\n",
       "      <td>0.094315</td>\n",
       "    </tr>\n",
       "    <tr>\n",
       "      <th>8</th>\n",
       "      <td>wind_speed</td>\n",
       "      <td>0.068012</td>\n",
       "    </tr>\n",
       "    <tr>\n",
       "      <th>4</th>\n",
       "      <td>pl_type_cargo_ship</td>\n",
       "      <td>0.027147</td>\n",
       "    </tr>\n",
       "    <tr>\n",
       "      <th>3</th>\n",
       "      <td>DOW</td>\n",
       "      <td>0.017240</td>\n",
       "    </tr>\n",
       "    <tr>\n",
       "      <th>1</th>\n",
       "      <td>in_hazmat</td>\n",
       "      <td>0.011405</td>\n",
       "    </tr>\n",
       "    <tr>\n",
       "      <th>5</th>\n",
       "      <td>pl_type_tug</td>\n",
       "      <td>0.000000</td>\n",
       "    </tr>\n",
       "  </tbody>\n",
       "</table>\n",
       "</div>"
      ],
      "text/plain": [
       "          feature_name  feature_importance\n",
       "9             max_temp            0.230174\n",
       "10            min_temp            0.124662\n",
       "6     sea_lev_pressure            0.109673\n",
       "0        gross_tonnage            0.109162\n",
       "11           port_dist            0.105347\n",
       "2                  HOD            0.102861\n",
       "7           visibility            0.094315\n",
       "8           wind_speed            0.068012\n",
       "4   pl_type_cargo_ship            0.027147\n",
       "3                  DOW            0.017240\n",
       "1            in_hazmat            0.011405\n",
       "5          pl_type_tug            0.000000"
      ]
     },
     "execution_count": 15,
     "metadata": {},
     "output_type": "execute_result"
    }
   ],
   "source": [
    "# get the feature importance (decending order of importance)\n",
    "# the importance of a feature is computed as the (normalized - sums to 1) total reduction of the criterion \n",
    "# brought by that feature. It is also known as the Gini importance [R251].\n",
    "feature_importance = delays_forest.feature_importances_\n",
    "feature_importance = pd.DataFrame(feature_importance,\n",
    "                                  columns = ['feature_importance'])\n",
    "feature_names = features_train.columns.values\n",
    "feature_names = pd.DataFrame(feature_names,\n",
    "                             columns = ['feature_name'])\n",
    "feature_importance = pd.merge(feature_names,\n",
    "                              feature_importance,\n",
    "                              left_index = True,\n",
    "                              right_index = True,\n",
    "                              how = 'inner')\n",
    "feature_importance.sort_values('feature_importance',\n",
    "                               ascending = False,\n",
    "                               inplace = True)\n",
    "feature_importance"
   ]
  },
  {
   "cell_type": "code",
   "execution_count": 16,
   "metadata": {},
   "outputs": [
    {
     "data": {
      "text/plain": [
       "0.6987643020594966"
      ]
     },
     "execution_count": 16,
     "metadata": {},
     "output_type": "execute_result"
    }
   ],
   "source": [
    "delays_forest.score(features_test,target_test)"
   ]
  },
  {
   "cell_type": "markdown",
   "metadata": {},
   "source": [
    "### AdaBoost"
   ]
  },
  {
   "cell_type": "code",
   "execution_count": 17,
   "metadata": {},
   "outputs": [
    {
     "data": {
      "text/plain": [
       "AdaBoostClassifier(algorithm='SAMME.R',\n",
       "          base_estimator=DecisionTreeClassifier(class_weight=None, criterion='gini', max_depth=1,\n",
       "            max_features=None, max_leaf_nodes=None,\n",
       "            min_impurity_decrease=0.0, min_impurity_split=None,\n",
       "            min_samples_leaf=1, min_samples_split=2,\n",
       "            min_weight_fraction_leaf=0.0, presort=False, random_state=None,\n",
       "            splitter='best'),\n",
       "          learning_rate=0.5, n_estimators=100, random_state=None)"
      ]
     },
     "execution_count": 17,
     "metadata": {},
     "output_type": "execute_result"
    }
   ],
   "source": [
    "from sklearn.ensemble import AdaBoostClassifier\n",
    "from sklearn.tree import DecisionTreeClassifier\n",
    "\n",
    "# initialise the classifier\n",
    "delays_adabost = AdaBoostClassifier(n_estimators = 100, algorithm = 'SAMME.R', learning_rate = 0.5)\n",
    "\n",
    "delays_adabost = AdaBoostClassifier(base_estimator = DecisionTreeClassifier(max_depth = 1),\n",
    "                                    n_estimators = 100,\n",
    "                                    algorithm = 'SAMME.R',\n",
    "                                    learning_rate = 0.5)\n",
    "\n",
    "# train the AdaBost classifier\n",
    "delays_adabost.fit(features_train, target_train['delay15'])"
   ]
  },
  {
   "cell_type": "code",
   "execution_count": 18,
   "metadata": {},
   "outputs": [
    {
     "data": {
      "text/plain": [
       "0.6859994584224839"
      ]
     },
     "execution_count": 18,
     "metadata": {},
     "output_type": "execute_result"
    }
   ],
   "source": [
    "delays_adabost.score(features_train,target_train)"
   ]
  },
  {
   "cell_type": "code",
   "execution_count": 19,
   "metadata": {},
   "outputs": [
    {
     "data": {
      "text/html": [
       "<div>\n",
       "<style scoped>\n",
       "    .dataframe tbody tr th:only-of-type {\n",
       "        vertical-align: middle;\n",
       "    }\n",
       "\n",
       "    .dataframe tbody tr th {\n",
       "        vertical-align: top;\n",
       "    }\n",
       "\n",
       "    .dataframe thead th {\n",
       "        text-align: right;\n",
       "    }\n",
       "</style>\n",
       "<table border=\"1\" class=\"dataframe\">\n",
       "  <thead>\n",
       "    <tr style=\"text-align: right;\">\n",
       "      <th></th>\n",
       "      <th>feature_name</th>\n",
       "      <th>feature_importance</th>\n",
       "    </tr>\n",
       "  </thead>\n",
       "  <tbody>\n",
       "    <tr>\n",
       "      <th>0</th>\n",
       "      <td>gross_tonnage</td>\n",
       "      <td>0.25</td>\n",
       "    </tr>\n",
       "    <tr>\n",
       "      <th>2</th>\n",
       "      <td>HOD</td>\n",
       "      <td>0.16</td>\n",
       "    </tr>\n",
       "    <tr>\n",
       "      <th>8</th>\n",
       "      <td>wind_speed</td>\n",
       "      <td>0.14</td>\n",
       "    </tr>\n",
       "    <tr>\n",
       "      <th>6</th>\n",
       "      <td>sea_lev_pressure</td>\n",
       "      <td>0.12</td>\n",
       "    </tr>\n",
       "    <tr>\n",
       "      <th>7</th>\n",
       "      <td>visibility</td>\n",
       "      <td>0.11</td>\n",
       "    </tr>\n",
       "    <tr>\n",
       "      <th>10</th>\n",
       "      <td>min_temp</td>\n",
       "      <td>0.07</td>\n",
       "    </tr>\n",
       "    <tr>\n",
       "      <th>3</th>\n",
       "      <td>DOW</td>\n",
       "      <td>0.06</td>\n",
       "    </tr>\n",
       "    <tr>\n",
       "      <th>9</th>\n",
       "      <td>max_temp</td>\n",
       "      <td>0.04</td>\n",
       "    </tr>\n",
       "    <tr>\n",
       "      <th>11</th>\n",
       "      <td>port_dist</td>\n",
       "      <td>0.04</td>\n",
       "    </tr>\n",
       "    <tr>\n",
       "      <th>4</th>\n",
       "      <td>pl_type_cargo_ship</td>\n",
       "      <td>0.01</td>\n",
       "    </tr>\n",
       "    <tr>\n",
       "      <th>1</th>\n",
       "      <td>in_hazmat</td>\n",
       "      <td>0.00</td>\n",
       "    </tr>\n",
       "    <tr>\n",
       "      <th>5</th>\n",
       "      <td>pl_type_tug</td>\n",
       "      <td>0.00</td>\n",
       "    </tr>\n",
       "  </tbody>\n",
       "</table>\n",
       "</div>"
      ],
      "text/plain": [
       "          feature_name  feature_importance\n",
       "0        gross_tonnage                0.25\n",
       "2                  HOD                0.16\n",
       "8           wind_speed                0.14\n",
       "6     sea_lev_pressure                0.12\n",
       "7           visibility                0.11\n",
       "10            min_temp                0.07\n",
       "3                  DOW                0.06\n",
       "9             max_temp                0.04\n",
       "11           port_dist                0.04\n",
       "4   pl_type_cargo_ship                0.01\n",
       "1            in_hazmat                0.00\n",
       "5          pl_type_tug                0.00"
      ]
     },
     "execution_count": 19,
     "metadata": {},
     "output_type": "execute_result"
    }
   ],
   "source": [
    "feature_importance = delays_adabost.feature_importances_\n",
    "feature_importance = pd.DataFrame(feature_importance,\n",
    "                                  columns = ['feature_importance'])\n",
    "feature_names = features_train.columns.values\n",
    "feature_names = pd.DataFrame(feature_names,\n",
    "                             columns = ['feature_name'])\n",
    "feature_importance = pd.merge(feature_names,\n",
    "                              feature_importance,\n",
    "                              left_index = True,\n",
    "                              right_index = True,\n",
    "                              how = 'inner')\n",
    "feature_importance.sort_values('feature_importance',\n",
    "                               ascending = False,\n",
    "                               inplace = True)\n",
    "feature_importance"
   ]
  },
  {
   "cell_type": "code",
   "execution_count": 20,
   "metadata": {},
   "outputs": [
    {
     "data": {
      "text/plain": [
       "0.6848054919908467"
      ]
     },
     "execution_count": 20,
     "metadata": {},
     "output_type": "execute_result"
    }
   ],
   "source": [
    "delays_adabost.score(features_test,target_test)"
   ]
  },
  {
   "cell_type": "markdown",
   "metadata": {},
   "source": [
    "### XGBoost"
   ]
  },
  {
   "cell_type": "code",
   "execution_count": 21,
   "metadata": {},
   "outputs": [],
   "source": [
    "import xgboost as xgb\n",
    "from xgboost import plot_tree"
   ]
  },
  {
   "cell_type": "code",
   "execution_count": 22,
   "metadata": {},
   "outputs": [],
   "source": [
    "delays_xgboost = xgb.XGBClassifier(max_depth = 2,\n",
    "                                   n_estimators = 100,\n",
    "                                   learning_rate = 0.05)"
   ]
  },
  {
   "cell_type": "code",
   "execution_count": 23,
   "metadata": {},
   "outputs": [
    {
     "data": {
      "text/plain": [
       "XGBClassifier(base_score=0.5, booster='gbtree', colsample_bylevel=1,\n",
       "       colsample_bytree=1, gamma=0, learning_rate=0.05, max_delta_step=0,\n",
       "       max_depth=2, min_child_weight=1, missing=None, n_estimators=100,\n",
       "       n_jobs=1, nthread=None, objective='binary:logistic', random_state=0,\n",
       "       reg_alpha=0, reg_lambda=1, scale_pos_weight=1, seed=None,\n",
       "       silent=True, subsample=1)"
      ]
     },
     "execution_count": 23,
     "metadata": {},
     "output_type": "execute_result"
    }
   ],
   "source": [
    "# train the classifier\n",
    "t_train = target_train.values.ravel()\n",
    "t_test = target_test.values.ravel()\n",
    "f_train = features_train.values\n",
    "f_test = features_test.values\n",
    "delays_xgboost.fit(f_train,t_train)"
   ]
  },
  {
   "cell_type": "code",
   "execution_count": 24,
   "metadata": {},
   "outputs": [
    {
     "name": "stderr",
     "output_type": "stream",
     "text": [
      "/usr/local/lib/python3.6/site-packages/sklearn/preprocessing/label.py:151: DeprecationWarning: The truth value of an empty array is ambiguous. Returning False, but in future this will result in an error. Use `array.size > 0` to check that an array is not empty.\n",
      "  if diff:\n"
     ]
    },
    {
     "data": {
      "text/plain": [
       "0.689142133586578"
      ]
     },
     "execution_count": 24,
     "metadata": {},
     "output_type": "execute_result"
    }
   ],
   "source": [
    "delays_xgboost.score(f_train,t_train)"
   ]
  },
  {
   "cell_type": "code",
   "execution_count": 25,
   "metadata": {},
   "outputs": [
    {
     "data": {
      "text/html": [
       "<div>\n",
       "<style scoped>\n",
       "    .dataframe tbody tr th:only-of-type {\n",
       "        vertical-align: middle;\n",
       "    }\n",
       "\n",
       "    .dataframe tbody tr th {\n",
       "        vertical-align: top;\n",
       "    }\n",
       "\n",
       "    .dataframe thead th {\n",
       "        text-align: right;\n",
       "    }\n",
       "</style>\n",
       "<table border=\"1\" class=\"dataframe\">\n",
       "  <thead>\n",
       "    <tr style=\"text-align: right;\">\n",
       "      <th></th>\n",
       "      <th>feature_name</th>\n",
       "      <th>feature_importance</th>\n",
       "    </tr>\n",
       "  </thead>\n",
       "  <tbody>\n",
       "    <tr>\n",
       "      <th>2</th>\n",
       "      <td>HOD</td>\n",
       "      <td>0.183333</td>\n",
       "    </tr>\n",
       "    <tr>\n",
       "      <th>0</th>\n",
       "      <td>gross_tonnage</td>\n",
       "      <td>0.170000</td>\n",
       "    </tr>\n",
       "    <tr>\n",
       "      <th>11</th>\n",
       "      <td>port_dist</td>\n",
       "      <td>0.146667</td>\n",
       "    </tr>\n",
       "    <tr>\n",
       "      <th>6</th>\n",
       "      <td>sea_lev_pressure</td>\n",
       "      <td>0.130000</td>\n",
       "    </tr>\n",
       "    <tr>\n",
       "      <th>8</th>\n",
       "      <td>wind_speed</td>\n",
       "      <td>0.123333</td>\n",
       "    </tr>\n",
       "    <tr>\n",
       "      <th>7</th>\n",
       "      <td>visibility</td>\n",
       "      <td>0.103333</td>\n",
       "    </tr>\n",
       "    <tr>\n",
       "      <th>9</th>\n",
       "      <td>max_temp</td>\n",
       "      <td>0.073333</td>\n",
       "    </tr>\n",
       "    <tr>\n",
       "      <th>10</th>\n",
       "      <td>min_temp</td>\n",
       "      <td>0.053333</td>\n",
       "    </tr>\n",
       "    <tr>\n",
       "      <th>4</th>\n",
       "      <td>pl_type_cargo_ship</td>\n",
       "      <td>0.013333</td>\n",
       "    </tr>\n",
       "    <tr>\n",
       "      <th>3</th>\n",
       "      <td>DOW</td>\n",
       "      <td>0.003333</td>\n",
       "    </tr>\n",
       "    <tr>\n",
       "      <th>1</th>\n",
       "      <td>in_hazmat</td>\n",
       "      <td>0.000000</td>\n",
       "    </tr>\n",
       "    <tr>\n",
       "      <th>5</th>\n",
       "      <td>pl_type_tug</td>\n",
       "      <td>0.000000</td>\n",
       "    </tr>\n",
       "  </tbody>\n",
       "</table>\n",
       "</div>"
      ],
      "text/plain": [
       "          feature_name  feature_importance\n",
       "2                  HOD            0.183333\n",
       "0        gross_tonnage            0.170000\n",
       "11           port_dist            0.146667\n",
       "6     sea_lev_pressure            0.130000\n",
       "8           wind_speed            0.123333\n",
       "7           visibility            0.103333\n",
       "9             max_temp            0.073333\n",
       "10            min_temp            0.053333\n",
       "4   pl_type_cargo_ship            0.013333\n",
       "3                  DOW            0.003333\n",
       "1            in_hazmat            0.000000\n",
       "5          pl_type_tug            0.000000"
      ]
     },
     "execution_count": 25,
     "metadata": {},
     "output_type": "execute_result"
    }
   ],
   "source": [
    "feature_importance = delays_xgboost.feature_importances_\n",
    "feature_importance = pd.DataFrame(feature_importance,\n",
    "                                  columns = ['feature_importance'])\n",
    "\n",
    "feature_names = features_train.columns.values\n",
    "feature_names = pd.DataFrame(feature_names,\n",
    "                             columns = ['feature_name'])\n",
    "feature_importance = pd.merge(feature_names,\n",
    "                              feature_importance,\n",
    "                              left_index = True,\n",
    "                              right_index = True,\n",
    "                              how = 'inner')\n",
    "feature_importance.sort_values('feature_importance',\n",
    "                               ascending = False,\n",
    "                               inplace = True)\n",
    "feature_importance"
   ]
  },
  {
   "cell_type": "code",
   "execution_count": 26,
   "metadata": {},
   "outputs": [
    {
     "name": "stderr",
     "output_type": "stream",
     "text": [
      "/usr/local/lib/python3.6/site-packages/sklearn/preprocessing/label.py:151: DeprecationWarning: The truth value of an empty array is ambiguous. Returning False, but in future this will result in an error. Use `array.size > 0` to check that an array is not empty.\n",
      "  if diff:\n"
     ]
    },
    {
     "data": {
      "text/plain": [
       "0.6887261632341724"
      ]
     },
     "execution_count": 26,
     "metadata": {},
     "output_type": "execute_result"
    }
   ],
   "source": [
    "delays_xgboost.score(f_test,t_test)"
   ]
  },
  {
   "cell_type": "code",
   "execution_count": 27,
   "metadata": {},
   "outputs": [
    {
     "name": "stderr",
     "output_type": "stream",
     "text": [
      "/usr/local/lib/python3.6/site-packages/sklearn/preprocessing/label.py:151: DeprecationWarning: The truth value of an empty array is ambiguous. Returning False, but in future this will result in an error. Use `array.size > 0` to check that an array is not empty.\n",
      "  if diff:\n"
     ]
    },
    {
     "data": {
      "text/plain": [
       "array([[25934,  8181],\n",
       "       [12223, 19212]])"
      ]
     },
     "execution_count": 27,
     "metadata": {},
     "output_type": "execute_result"
    }
   ],
   "source": [
    "# get the test confusion matrix\n",
    "# score the test data first\n",
    "test_classified = delays_xgboost.predict(f_test)\n",
    "test_prob = delays_xgboost.predict_proba(f_test)\n",
    "confusion_matrix(t_test,test_classified)"
   ]
  },
  {
   "cell_type": "markdown",
   "metadata": {},
   "source": [
    "## Different delay sizes"
   ]
  },
  {
   "cell_type": "code",
   "execution_count": 28,
   "metadata": {},
   "outputs": [],
   "source": [
    "def train_test_delay(delay_mins):\n",
    "\n",
    "     # extract all the delayed records\n",
    "    delayed = dev_data[dev_data['delay'+str(delay_mins)] == True]\n",
    "\n",
    "    # extract all the ontime records\n",
    "    ontime = dev_data[dev_data['delay'+str(delay_mins)] == False]\n",
    "\n",
    "    if len(ontime) > len(delayed):\n",
    "        # take a sample of the ontime records\n",
    "        ontime_sample = ontime.sample(len(delayed),random_state = 1234,axis = 0)\n",
    "        # concatenate the two datasets\n",
    "        balanced = pd.concat([delayed,ontime_sample])\n",
    "    else:\n",
    "        # take a sample of the delayed records\n",
    "        delayed_sample = delayed.sample(len(ontime),random_state = 1234,axis = 0)\n",
    "        # concatenate the two datasets\n",
    "        balanced = pd.concat([delayed_sample,ontime])\n",
    "\n",
    "    # randomise the dataset\n",
    "    balanced = balanced.sample(len(balanced),random_state = 1234,axis = 0)\n",
    "\n",
    "    target = balanced[['delay'+str(delay_mins)]]\n",
    "    \n",
    "    features = balanced.drop(['delay15','delay30','delay60','delay90','delay120'],axis=1)\n",
    "\n",
    "    # split into train and test (80:20), maintain the balanced sample\n",
    "    features_train,features_test,target_train,target_test = train_test_split(features,\n",
    "                                                                             target,\n",
    "                                                                             test_size = 0.2,\n",
    "                                                                             random_state = 1234,\n",
    "                                                                             stratify = target)\n",
    "    return features_train,features_test,target_train,target_test"
   ]
  },
  {
   "cell_type": "code",
   "execution_count": 29,
   "metadata": {},
   "outputs": [],
   "source": [
    "features_train15,features_test15,target_train15,target_test15 = train_test_delay(15)\n",
    "features_train30,features_test30,target_train30,target_test30 = train_test_delay(30)\n",
    "features_train60,features_test60,target_train60,target_test60 = train_test_delay(60)\n",
    "features_train90,features_test90,target_train90,target_test90 = train_test_delay(90)\n",
    "features_train120,features_test120,target_train120,target_test120 = train_test_delay(120)"
   ]
  },
  {
   "cell_type": "code",
   "execution_count": 30,
   "metadata": {},
   "outputs": [],
   "source": [
    "train_test_lengths = [('15_minutes',len(target_train15),len(target_test15)),\n",
    "                      ('30 minutes', len(target_train30),len(target_test30)),\n",
    "                      ('60 minutes', len(target_train60),len(target_test60)),\n",
    "                      ('90 minutes', len(target_train90),len(target_test90)),\n",
    "                      ('120 minutes', len(target_train120),len(target_test120))]\n",
    "                      \n",
    "train_test_lengths = pd.DataFrame(train_test_lengths)\n",
    "train_test_lengths.columns = ['Delay Threshold','Training','Test']"
   ]
  },
  {
   "cell_type": "markdown",
   "metadata": {},
   "source": [
    "Training and test dataset sizes. A delay threshold of 15 minutes indicates that a ship is deemed as being delayed if it arrives 15 minutes after its estimated arrival time"
   ]
  },
  {
   "cell_type": "markdown",
   "metadata": {},
   "source": [
    "### Training\n",
    "\n",
    "To explore the relationship between model performance and delay time, an XGBoost model is trained on each of the target fields"
   ]
  },
  {
   "cell_type": "code",
   "execution_count": 31,
   "metadata": {},
   "outputs": [],
   "source": [
    "def xg_boost_delays(features_train,features_test,target_train,target_test):\n",
    "    #Train the classifier\n",
    "    t_train = target_train.values.ravel()\n",
    "    t_test = target_test.values.ravel()\n",
    "    f_train = features_train.values\n",
    "    f_test = features_test.values\n",
    "    delays_xgboost.fit(f_train,t_train)\n",
    "\n",
    "    return [delays_xgboost.score(f_train,t_train),delays_xgboost.score(f_test,t_test)]"
   ]
  },
  {
   "cell_type": "code",
   "execution_count": 32,
   "metadata": {
    "collapsed": true
   },
   "outputs": [
    {
     "name": "stderr",
     "output_type": "stream",
     "text": [
      "/usr/local/lib/python3.6/site-packages/sklearn/preprocessing/label.py:151: DeprecationWarning: The truth value of an empty array is ambiguous. Returning False, but in future this will result in an error. Use `array.size > 0` to check that an array is not empty.\n",
      "  if diff:\n",
      "/usr/local/lib/python3.6/site-packages/sklearn/preprocessing/label.py:151: DeprecationWarning: The truth value of an empty array is ambiguous. Returning False, but in future this will result in an error. Use `array.size > 0` to check that an array is not empty.\n",
      "  if diff:\n",
      "/usr/local/lib/python3.6/site-packages/sklearn/preprocessing/label.py:151: DeprecationWarning: The truth value of an empty array is ambiguous. Returning False, but in future this will result in an error. Use `array.size > 0` to check that an array is not empty.\n",
      "  if diff:\n",
      "/usr/local/lib/python3.6/site-packages/sklearn/preprocessing/label.py:151: DeprecationWarning: The truth value of an empty array is ambiguous. Returning False, but in future this will result in an error. Use `array.size > 0` to check that an array is not empty.\n",
      "  if diff:\n",
      "/usr/local/lib/python3.6/site-packages/sklearn/preprocessing/label.py:151: DeprecationWarning: The truth value of an empty array is ambiguous. Returning False, but in future this will result in an error. Use `array.size > 0` to check that an array is not empty.\n",
      "  if diff:\n",
      "/usr/local/lib/python3.6/site-packages/sklearn/preprocessing/label.py:151: DeprecationWarning: The truth value of an empty array is ambiguous. Returning False, but in future this will result in an error. Use `array.size > 0` to check that an array is not empty.\n",
      "  if diff:\n",
      "/usr/local/lib/python3.6/site-packages/sklearn/preprocessing/label.py:151: DeprecationWarning: The truth value of an empty array is ambiguous. Returning False, but in future this will result in an error. Use `array.size > 0` to check that an array is not empty.\n",
      "  if diff:\n",
      "/usr/local/lib/python3.6/site-packages/sklearn/preprocessing/label.py:151: DeprecationWarning: The truth value of an empty array is ambiguous. Returning False, but in future this will result in an error. Use `array.size > 0` to check that an array is not empty.\n",
      "  if diff:\n",
      "/usr/local/lib/python3.6/site-packages/sklearn/preprocessing/label.py:151: DeprecationWarning: The truth value of an empty array is ambiguous. Returning False, but in future this will result in an error. Use `array.size > 0` to check that an array is not empty.\n",
      "  if diff:\n",
      "/usr/local/lib/python3.6/site-packages/sklearn/preprocessing/label.py:151: DeprecationWarning: The truth value of an empty array is ambiguous. Returning False, but in future this will result in an error. Use `array.size > 0` to check that an array is not empty.\n",
      "  if diff:\n"
     ]
    }
   ],
   "source": [
    "delay15_scores = xg_boost_delays(features_train15,features_test15,target_train15,target_test15)\n",
    "delay30_scores = xg_boost_delays(features_train30,features_test30,target_train30,target_test30)\n",
    "delay60_scores = xg_boost_delays(features_train60,features_test60,target_train60,target_test60)\n",
    "delay90_scores = xg_boost_delays(features_train90,features_test90,target_train90,target_test90)\n",
    "delay120_scores = xg_boost_delays(features_train120,features_test120,target_train120,target_test120)"
   ]
  },
  {
   "cell_type": "code",
   "execution_count": 33,
   "metadata": {},
   "outputs": [],
   "source": [
    "training = [delay15_scores[0],delay30_scores[0],delay60_scores[0],delay90_scores[0],delay120_scores[0]]\n",
    "test = [delay15_scores[1],delay30_scores[1],delay60_scores[1],delay90_scores[1],delay120_scores[1]]"
   ]
  },
  {
   "cell_type": "code",
   "execution_count": 34,
   "metadata": {},
   "outputs": [
    {
     "data": {
      "image/png": "[encoded data removed]",
      "text/plain": [
       "<matplotlib.figure.Figure at 0x11d6bba90>"
      ]
     },
     "metadata": {},
     "output_type": "display_data"
    }
   ],
   "source": [
    "x = [15,30,60,90,120]\n",
    "xi = [i for i in range(0, len(x))]\n",
    "plt.plot(xi, training, color = 'r', label = 'Training')\n",
    "plt.plot(xi, test, color = 'g', label = 'Test')\n",
    "plt.xticks(xi, x)\n",
    "plt.legend()\n",
    "plt.show()"
   ]
  }
 ],
 "metadata": {
  "kernelspec": {
   "display_name": "Python 3",
   "language": "python",
   "name": "python3"
  },
  "language_info": {
   "codemirror_mode": {
    "name": "ipython",
    "version": 3
   },
   "file_extension": ".py",
   "mimetype": "text/x-python",
   "name": "python",
   "nbconvert_exporter": "python",
   "pygments_lexer": "ipython3",
   "version": "3.6.4"
  }
 },
 "nbformat": 4,
 "nbformat_minor": 2
}
