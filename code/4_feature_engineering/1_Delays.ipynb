{
 "cells": [
  {
   "cell_type": "markdown",
   "metadata": {},
   "source": [
    "# Delays\n",
    "\n",
    "Delays resulting from the late arrival of ships at port can have a significant operational and economic impact. The following section investigates if it's possble to predict whether a ship will be delayed arriving at it's destination. To explore all the factors that may contribute to delays, several features were taken and derived from both the AIS and CERS datasets. \n",
    "\n",
    "At each point on a ship’s journey features from the high level themes below will be used:\n",
    "\n",
    "- time and seasonality\n",
    "- ship characteristics such as gross tonnage\n",
    "- previous delay counts\n",
    "- ship dynamics such as SOG and ROT\n",
    "- distance from last port of call\n",
    "- segments\n",
    "- local loading\n",
    "- port loading\n",
    "- weather "
   ]
  },
  {
   "cell_type": "code",
   "execution_count": 1,
   "metadata": {},
   "outputs": [],
   "source": [
    "# base libraries\n",
    "import pandas as pd\n",
    "import math\n",
    "import os\n",
    "import json\n",
    "import numpy as np"
   ]
  },
  {
   "cell_type": "code",
   "execution_count": 2,
   "metadata": {},
   "outputs": [],
   "source": [
    "# set variable from config file\n",
    "config_path = os.path.abspath('..')\n",
    "\n",
    "with open(config_path + '/config.json', 'r') as f:\n",
    "    config = json.load(f) \n",
    "\n",
    "processing_path = config['DEFAULT']['processing_path']\n",
    "shipping_rot_filename = config['DEFAULT']['shipping_rot_filename']\n",
    "shipping_filename = config['DEFAULT']['shipping_filename']\n",
    "cers_eta_filename = config['DEFAULT']['cers_eta_filename']\n",
    "delay_filename = config['DEFAULT']['delay_filename']"
   ]
  },
  {
   "cell_type": "markdown",
   "metadata": {},
   "source": [
    "During investigations of the CERS data it was discovered that the ETA within the downloadable CERS data is updated to equal the ATA (actual time of arrival)."
   ]
  },
  {
   "cell_type": "code",
   "execution_count": 3,
   "metadata": {},
   "outputs": [],
   "source": [
    "# import data\n",
    "dtype_dic = {'MMSI':int,'dt':'str', 'lat':'float', 'long':'float','SOG':'float', 'rot':'float', \n",
    "             'Type':'str', 'gross_tonnage':'float','vessel_name':'str', 'ETA':'str', 'POC_LOCODE':'str',\n",
    "             'last_port_LOCODE':'str', 'next_port_LOCODE':'str', 'status':'str','voyage_id':'float','tripid':int,\n",
    "            'in_hazmat':'str','out_hazmat':'str'}\n",
    "parse_dates = ['dt', 'ETA']\n",
    "\n",
    "shipping_data = pd.read_csv(processing_path + shipping_filename,header = 0,delimiter = ',',dtype = dtype_dic, parse_dates=parse_dates)\n",
    "\n",
    "# file contains the original ETA and a new ETA found by creating an automated process to query CERS\n",
    "ETA_data = pd.read_csv(processing_path + cers_eta_filename, header = 0,delimiter = ',')\n",
    "ETA_data['etatoportofcall'] = pd.to_datetime(ETA_data['etatoportofcall'])"
   ]
  },
  {
   "cell_type": "code",
   "execution_count": 4,
   "metadata": {},
   "outputs": [],
   "source": [
    "# merge the new ETA to the shipping data\n",
    "shipping_data = shipping_data[['MMSI','voyage_id','dt','ETA']].merge(ETA_data[['voyage_id','etatoportofcall']], \n",
    "                                                                     how = 'inner', on = 'voyage_id')"
   ]
  },
  {
   "cell_type": "markdown",
   "metadata": {},
   "source": [
    "## Delays\n",
    "\n",
    "The target field for the modelling will be a binary variable indicating whether the ship is delayed or not. The delay is calculated by substacting the estiamted time of arrival from the actual time of arrival.\n",
    "\n",
    "As the threshold at which the length of delay becomes operationally critical, differs for different situations, five binary target fields are created each relating to different delay thresholds, 15, 30, 60, 90 and 120 minutes."
   ]
  },
  {
   "cell_type": "code",
   "execution_count": 5,
   "metadata": {},
   "outputs": [],
   "source": [
    "# calculate delay\n",
    "shipping_data.rename(columns = {'etatoportofcall':'ETA_new'}, inplace = True)\n",
    "shipping_data['arrivalDelay'] = shipping_data['ETA'] - shipping_data['ETA_new']\n",
    "shipping_data['arrivalDelayMin'] = shipping_data['arrivalDelay'].dt.total_seconds()/60"
   ]
  },
  {
   "cell_type": "code",
   "execution_count": 6,
   "metadata": {},
   "outputs": [],
   "source": [
    "shipping_data['delay15'] = shipping_data['arrivalDelayMin'] >= 15\n",
    "shipping_data['delay30'] = shipping_data['arrivalDelayMin'] >= 30\n",
    "shipping_data['delay60'] = shipping_data['arrivalDelayMin'] >= 60\n",
    "shipping_data['delay90'] = shipping_data['arrivalDelayMin'] >= 90\n",
    "shipping_data['delay120'] = shipping_data['arrivalDelayMin'] >= 120"
   ]
  },
  {
   "cell_type": "markdown",
   "metadata": {},
   "source": [
    "## Previous delays\n",
    "\n",
    "A possible predictive feature is whether a ship has been delayed before"
   ]
  },
  {
   "cell_type": "code",
   "execution_count": 7,
   "metadata": {},
   "outputs": [],
   "source": [
    "# find the combination of ship and journey (MMSI and ETA) that have been delayed by at least 15 mins\n",
    "delayed_15 = shipping_data[shipping_data['delay15'] == 1].copy()\n",
    "delayed_15a = delayed_15[['MMSI','ETA']]\n",
    "delayed_15a = delayed_15a.drop_duplicates(keep = 'first', inplace = False)\n",
    "\n",
    "# join on each delay by MMSI\n",
    "ship_delays = delayed_15a.merge(delayed_15a,how = 'left',on = ['MMSI'])\n",
    "# only keep a previous delay if it's for a journey before the current one\n",
    "ship_delays['previous_delays'] = ship_delays.apply(lambda row: (row['ETA_y'] if row['ETA_y'] < row['ETA_x'] else float(np.nan)), axis=1)\n",
    "ship_delays.rename(index = str, columns = {'ETA_x':'ETA'}, inplace=True)\n",
    "\n",
    "# count previous delays for each MMSI and journey (ETA)\n",
    "ship_delays = ship_delays.groupby(['MMSI','ETA'],as_index=False)['previous_delays'].count()\n",
    "delayed_15 = delayed_15.merge(ship_delays,how = 'left',on=['MMSI','ETA'])"
   ]
  },
  {
   "cell_type": "code",
   "execution_count": 8,
   "metadata": {},
   "outputs": [],
   "source": [
    "shipping_data = shipping_data.merge(delayed_15[['MMSI','dt','previous_delays']], how = 'left', on = ['MMSI','dt'])"
   ]
  },
  {
   "cell_type": "markdown",
   "metadata": {},
   "source": [
    "## Export data"
   ]
  },
  {
   "cell_type": "code",
   "execution_count": 9,
   "metadata": {},
   "outputs": [],
   "source": [
    "shipping_data.to_csv(processing_path + delay_filename,header=True,index=False,sep=',')"
   ]
  },
  {
   "cell_type": "code",
   "execution_count": 12,
   "metadata": {},
   "outputs": [
    {
     "data": {
      "text/html": [
       "<div>\n",
       "<style scoped>\n",
       "    .dataframe tbody tr th:only-of-type {\n",
       "        vertical-align: middle;\n",
       "    }\n",
       "\n",
       "    .dataframe tbody tr th {\n",
       "        vertical-align: top;\n",
       "    }\n",
       "\n",
       "    .dataframe thead th {\n",
       "        text-align: right;\n",
       "    }\n",
       "</style>\n",
       "<table border=\"1\" class=\"dataframe\">\n",
       "  <thead>\n",
       "    <tr style=\"text-align: right;\">\n",
       "      <th></th>\n",
       "      <th>MMSI</th>\n",
       "      <th>arrivalDelay</th>\n",
       "      <th>arrivalDelayMin</th>\n",
       "      <th>previous_delays</th>\n",
       "    </tr>\n",
       "  </thead>\n",
       "  <tbody>\n",
       "    <tr>\n",
       "      <th>count</th>\n",
       "      <td>1.659444e+06</td>\n",
       "      <td>1659444</td>\n",
       "      <td>1.659444e+06</td>\n",
       "      <td>798051.000000</td>\n",
       "    </tr>\n",
       "    <tr>\n",
       "      <th>mean</th>\n",
       "      <td>3.590220e+08</td>\n",
       "      <td>0 days 01:41:34.662802</td>\n",
       "      <td>1.015777e+02</td>\n",
       "      <td>2.538025</td>\n",
       "    </tr>\n",
       "    <tr>\n",
       "      <th>std</th>\n",
       "      <td>1.616881e+08</td>\n",
       "      <td>0 days 17:34:13.824703</td>\n",
       "      <td>1.054230e+03</td>\n",
       "      <td>4.178169</td>\n",
       "    </tr>\n",
       "    <tr>\n",
       "      <th>min</th>\n",
       "      <td>2.093220e+08</td>\n",
       "      <td>-9 days +10:00:00</td>\n",
       "      <td>-1.236000e+04</td>\n",
       "      <td>0.000000</td>\n",
       "    </tr>\n",
       "    <tr>\n",
       "      <th>25%</th>\n",
       "      <td>2.204770e+08</td>\n",
       "      <td>-1 days +23:05:00</td>\n",
       "      <td>-5.500000e+01</td>\n",
       "      <td>0.000000</td>\n",
       "    </tr>\n",
       "    <tr>\n",
       "      <th>50%</th>\n",
       "      <td>2.558057e+08</td>\n",
       "      <td>0 days 00:06:00</td>\n",
       "      <td>6.000000e+00</td>\n",
       "      <td>1.000000</td>\n",
       "    </tr>\n",
       "    <tr>\n",
       "      <th>75%</th>\n",
       "      <td>4.777128e+08</td>\n",
       "      <td>0 days 02:06:00</td>\n",
       "      <td>1.260000e+02</td>\n",
       "      <td>3.000000</td>\n",
       "    </tr>\n",
       "    <tr>\n",
       "      <th>max</th>\n",
       "      <td>6.360926e+08</td>\n",
       "      <td>29 days 21:05:00</td>\n",
       "      <td>4.302500e+04</td>\n",
       "      <td>24.000000</td>\n",
       "    </tr>\n",
       "  </tbody>\n",
       "</table>\n",
       "</div>"
      ],
      "text/plain": [
       "               MMSI            arrivalDelay  arrivalDelayMin  previous_delays\n",
       "count  1.659444e+06                 1659444     1.659444e+06    798051.000000\n",
       "mean   3.590220e+08  0 days 01:41:34.662802     1.015777e+02         2.538025\n",
       "std    1.616881e+08  0 days 17:34:13.824703     1.054230e+03         4.178169\n",
       "min    2.093220e+08       -9 days +10:00:00    -1.236000e+04         0.000000\n",
       "25%    2.204770e+08       -1 days +23:05:00    -5.500000e+01         0.000000\n",
       "50%    2.558057e+08         0 days 00:06:00     6.000000e+00         1.000000\n",
       "75%    4.777128e+08         0 days 02:06:00     1.260000e+02         3.000000\n",
       "max    6.360926e+08        29 days 21:05:00     4.302500e+04        24.000000"
      ]
     },
     "execution_count": 12,
     "metadata": {},
     "output_type": "execute_result"
    }
   ],
   "source": [
    "shipping_data.describe()"
   ]
  }
 ],
 "metadata": {
  "kernelspec": {
   "display_name": "Python 3",
   "language": "python",
   "name": "python3"
  },
  "language_info": {
   "codemirror_mode": {
    "name": "ipython",
    "version": 3
   },
   "file_extension": ".py",
   "mimetype": "text/x-python",
   "name": "python",
   "nbconvert_exporter": "python",
   "pygments_lexer": "ipython3",
   "version": "3.6.4"
  }
 },
 "nbformat": 4,
 "nbformat_minor": 2
}
