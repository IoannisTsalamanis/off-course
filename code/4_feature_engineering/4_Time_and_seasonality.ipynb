{
 "cells": [
  {
   "cell_type": "markdown",
   "metadata": {},
   "source": [
    "# Time and Seasonality"
   ]
  },
  {
   "cell_type": "code",
   "execution_count": 1,
   "metadata": {
    "collapsed": true
   },
   "outputs": [],
   "source": [
    "# base libraries\n",
    "import pandas as pd\n",
    "import math\n",
    "import os\n",
    "import json"
   ]
  },
  {
   "cell_type": "code",
   "execution_count": 2,
   "metadata": {
    "collapsed": true
   },
   "outputs": [],
   "source": [
    "# set variable from config file\n",
    "config_path = os.path.abspath('..')\n",
    "\n",
    "with open(config_path + '/config.json', 'r') as f:\n",
    "    config = json.load(f)\n",
    "\n",
    "processing_path = config['DEFAULT']['processing_path']\n",
    "shipping_rot_filename = config['DEFAULT']['shipping_rot_filename']\n",
    "seasonality_filename = config['DEFAULT']['seasonality_filename']"
   ]
  },
  {
   "cell_type": "code",
   "execution_count": 3,
   "metadata": {
    "collapsed": true
   },
   "outputs": [],
   "source": [
    "# import data\n",
    "dtype_dic = {'MMSI':int,'dt':'str', 'lat':'float', 'long':'float','SOG':'float', 'rot':'float', \n",
    "             'Type':'str', 'gross_tonnage':'float','vessel_name':'str', 'ETA':'str', 'POC_LOCODE':'str',\n",
    "             'last_port_LOCODE':'str', 'next_port_LOCODE':'str', 'status':'str','voyage_id':'float','tripid':int,\n",
    "            'in_hazmat':'str','out_hazmat':'str'}\n",
    "parse_dates = ['dt', 'ETA']\n",
    "\n",
    "shipping_data = pd.read_csv(processing_path + shipping_rot_filename,header = 0,delimiter = ',',dtype = dtype_dic, parse_dates=parse_dates)"
   ]
  },
  {
   "cell_type": "markdown",
   "metadata": {},
   "source": [
    "\n",
    "## Minute of the hour\n",
    "Cyclical sine and cosine fields are also generated  "
   ]
  },
  {
   "cell_type": "code",
   "execution_count": 5,
   "metadata": {
    "collapsed": true
   },
   "outputs": [],
   "source": [
    "dt_framework = shipping_data[['MMSI','dt']].copy()\n",
    "# + 1 to make it 1-60 instead of 0-59\n",
    "dt_framework['MOH'] = dt_framework['dt'].dt.minute + 1\n",
    "dt_framework['MOH1'] = dt_framework.apply(lambda x: math.sin((x['MOH']/60)*2*math.pi),axis = 1)\n",
    "dt_framework['MOH2'] = dt_framework.apply(lambda x: math.cos((x['MOH']/60)*2*math.pi),axis = 1)"
   ]
  },
  {
   "cell_type": "markdown",
   "metadata": {},
   "source": [
    "## Hour of the day\n",
    "Cyclical sine and cosine fields are also generated"
   ]
  },
  {
   "cell_type": "code",
   "execution_count": null,
   "metadata": {
    "collapsed": true
   },
   "outputs": [],
   "source": [
    "dt_framework['HOD'] = dt_framework['dt'].dt.hour + 1\n",
    "dt_framework['HOD1'] = dt_framework.apply(lambda x: math.sin((x['HOD']/24)*2*math.pi),axis = 1)\n",
    "dt_framework['HOD2'] = dt_framework.apply(lambda x: math.cos((x['HOD']/24)*2*math.pi),axis = 1)"
   ]
  },
  {
   "cell_type": "markdown",
   "metadata": {},
   "source": [
    "## Day of the week\n",
    "Cyclical sine and cosine fields are also generated\n",
    "(Monday = 1... Sunday = 7)"
   ]
  },
  {
   "cell_type": "code",
   "execution_count": null,
   "metadata": {
    "collapsed": true
   },
   "outputs": [],
   "source": [
    "dt_framework['DOW'] = dt_framework['dt'].dt.weekday + 1\n",
    "dt_framework['DOW1'] = dt_framework.apply(lambda x: math.sin((x['DOW']/7)*2*math.pi),axis = 1)\n",
    "dt_framework['DOW2'] = dt_framework.apply(lambda x: math.cos((x['DOW']/7)*2*math.pi),axis = 1)"
   ]
  },
  {
   "cell_type": "markdown",
   "metadata": {},
   "source": [
    "## Week of year\n",
    "Cyclical sine and cosine fields are also generated"
   ]
  },
  {
   "cell_type": "code",
   "execution_count": null,
   "metadata": {
    "collapsed": true
   },
   "outputs": [],
   "source": [
    "dt_framework['WOY'] = dt_framework['dt'].dt.week\n",
    "dt_framework['WOY1'] = dt_framework.apply(lambda x: math.sin((x['WOY']/52)*2*math.pi),axis = 1)\n",
    "dt_framework['WOY2'] = dt_framework.apply(lambda x: math.cos((x['WOY']/52)*2*math.pi),axis = 1)"
   ]
  },
  {
   "cell_type": "markdown",
   "metadata": {},
   "source": [
    "## Month of year\n",
    "Cyclical sine and cosine fields are also generated\n",
    "(January = 1)"
   ]
  },
  {
   "cell_type": "code",
   "execution_count": null,
   "metadata": {
    "collapsed": true
   },
   "outputs": [],
   "source": [
    "dt_framework['MOY'] = dt_framework['dt'].dt.month\n",
    "dt_framework['MOY1'] = dt_framework.apply(lambda x: math.sin((x['MOY']/12)*2*math.pi),axis = 1)\n",
    "dt_framework['MOY2'] = dt_framework.apply(lambda x: math.cos((x['MOY']/12)*2*math.pi),axis = 1)"
   ]
  },
  {
   "cell_type": "markdown",
   "metadata": {},
   "source": [
    "## Export Data"
   ]
  },
  {
   "cell_type": "code",
   "execution_count": null,
   "metadata": {
    "collapsed": true
   },
   "outputs": [],
   "source": [
    "dt_framework.to_csv(processing_path + seasonality_filename,header=True,index=False,sep=',')"
   ]
  },
  {
   "cell_type": "code",
   "execution_count": null,
   "metadata": {
    "collapsed": true
   },
   "outputs": [],
   "source": [
    "dt_framework.describe()"
   ]
  }
 ],
 "metadata": {
  "kernelspec": {
   "display_name": "Python 3",
   "language": "python",
   "name": "python3"
  },
  "language_info": {
   "codemirror_mode": {
    "name": "ipython",
    "version": 3
   },
   "file_extension": ".py",
   "mimetype": "text/x-python",
   "name": "python",
   "nbconvert_exporter": "python",
   "pygments_lexer": "ipython3",
   "version": "3.6.5"
  }
 },
 "nbformat": 4,
 "nbformat_minor": 2
}
