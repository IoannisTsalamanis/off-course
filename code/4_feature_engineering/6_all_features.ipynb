{
 "cells": [
  {
   "cell_type": "markdown",
   "metadata": {},
   "source": [
    "# All features\n",
    "\n",
    "Bring all features together into a single dataset"
   ]
  },
  {
   "cell_type": "code",
   "execution_count": 1,
   "metadata": {},
   "outputs": [],
   "source": [
    "# base libraries\n",
    "import pandas as pd\n",
    "import numpy as np\n",
    "import math\n",
    "import os\n",
    "import json"
   ]
  },
  {
   "cell_type": "code",
   "execution_count": 2,
   "metadata": {},
   "outputs": [],
   "source": [
    "# set variable from config file\n",
    "config_path = os.path.abspath('..')\n",
    "\n",
    "with open(config_path + '/config.json', 'r') as f:\n",
    "    config = json.load(f)\n",
    "\n",
    "processing_path = config['DEFAULT']['processing_path']\n",
    "shipping_rot_filename = config['DEFAULT']['shipping_rot_filename']\n",
    "segment_filename = config['DEFAULT']['segment_filename']\n",
    "port_loading_filename = config['DEFAULT']['port_loading_filename']\n",
    "seasonality_filename = config['DEFAULT']['seasonality_filename']\n",
    "delay_filename = config['DEFAULT']['delay_filename']\n",
    "weather_data_filename = config['DEFAULT']['weather_data_filename']\n",
    "ship_dynamics_filename = config['DEFAULT']['ship_dynamics_filename']\n",
    "features_filename = config['DEFAULT']['features_filename']"
   ]
  },
  {
   "cell_type": "code",
   "execution_count": 3,
   "metadata": {},
   "outputs": [],
   "source": [
    "# import data\n",
    "dtype_dic = {'MMSI':int,'dt':'str', 'lat':'float', 'long':'float','SOG':'float', 'rot':'float', \n",
    "             'Type':'str', 'gross_tonnage':'float','vessel_name':'str', 'ETA':'str', 'POC_LOCODE':'str',\n",
    "             'last_port_LOCODE':'str', 'next_port_LOCODE':'str', 'status':'str','voyage_id':'float','tripid':int,\n",
    "            'in_hazmat':'str','out_hazmat':'str'}\n",
    "parse_dates = ['dt', 'ETA']\n",
    "\n",
    "shipping_data = pd.read_csv(processing_path + shipping_rot_filename,header = 0,delimiter = ',',dtype = dtype_dic, parse_dates=parse_dates)"
   ]
  },
  {
   "cell_type": "markdown",
   "metadata": {},
   "source": [
    "## Merge delays data"
   ]
  },
  {
   "cell_type": "code",
   "execution_count": 4,
   "metadata": {},
   "outputs": [],
   "source": [
    "# import delays data\n",
    "delays = pd.read_csv(processing_path + delay_filename, header = 0,delimiter = ',')\n",
    "delays['dt'] = pd.to_datetime(delays['dt'])"
   ]
  },
  {
   "cell_type": "code",
   "execution_count": 5,
   "metadata": {},
   "outputs": [],
   "source": [
    "shipping_data = shipping_data.merge(delays[['MMSI','dt','arrivalDelay','arrivalDelayMin','delay15','delay30',\n",
    "                                            'delay60','delay90','delay120','previous_delays','ETA_new']], how = 'inner', \n",
    "                                    on = ['MMSI','dt'])"
   ]
  },
  {
   "cell_type": "markdown",
   "metadata": {},
   "source": [
    "## Ship Type"
   ]
  },
  {
   "cell_type": "code",
   "execution_count": 6,
   "metadata": {},
   "outputs": [],
   "source": [
    "shipping_data['Type'] = shipping_data['Type'].map({'tug':'tug', 'container ship':'container', \n",
    "                                                   'pilot':'pilot', 'ro-ro cargo ship':'cargo_ship', \n",
    "                                                   'hopper dredger':'dredger', \n",
    "                                                   'general cargo ship':'general_cargo', \n",
    "                                                   'passenger/ro-ro cargo ship':'passenger', \n",
    "                                                   'work/repair vessel':'work_vessel', 'sar':'sar', \n",
    "                                                   'unknown type':'unknown'})\n",
    "\n",
    "# create one hot encoding for each ship type\n",
    "one_hot = pd.get_dummies(shipping_data['Type'],prefix = 'type')"
   ]
  },
  {
   "cell_type": "code",
   "execution_count": 7,
   "metadata": {},
   "outputs": [],
   "source": [
    "# merge dummy fields back on\n",
    "shipping_data = shipping_data.merge(one_hot, left_index = True,right_index = True, how = 'inner') "
   ]
  },
  {
   "cell_type": "markdown",
   "metadata": {},
   "source": [
    "## Segments"
   ]
  },
  {
   "cell_type": "code",
   "execution_count": 8,
   "metadata": {},
   "outputs": [],
   "source": [
    "segments = pd.read_csv(processing_path + segment_filename, header = 0,delimiter = ',')\n",
    "segments['dt'] = pd.to_datetime(segments['dt'])"
   ]
  },
  {
   "cell_type": "code",
   "execution_count": 9,
   "metadata": {},
   "outputs": [],
   "source": [
    "segments['seg_desc'] = segments['segment'].map({0:'Trans_general', 1:'Docking_terminal',2:'Docking_mid', 3:'Docked',\n",
    "                                               4:'Trans_border', 5:'Docking_inital'})\n",
    "\n",
    "# create one hot encoding for each segment\n",
    "one_hot_seg = pd.get_dummies(segments['seg_desc'],prefix = 'seg')"
   ]
  },
  {
   "cell_type": "code",
   "execution_count": 10,
   "metadata": {},
   "outputs": [],
   "source": [
    "# merge dummy fields back on\n",
    "shipping_data = shipping_data.merge(one_hot_seg, left_index = True,right_index = True, how = 'inner') "
   ]
  },
  {
   "cell_type": "markdown",
   "metadata": {},
   "source": [
    "## Seasonality"
   ]
  },
  {
   "cell_type": "code",
   "execution_count": 11,
   "metadata": {},
   "outputs": [],
   "source": [
    "seasonality = pd.read_csv(processing_path + seasonality_filename, header = 0,delimiter = ',')\n",
    "seasonality['dt'] = pd.to_datetime(seasonality['dt'])"
   ]
  },
  {
   "cell_type": "code",
   "execution_count": 12,
   "metadata": {},
   "outputs": [],
   "source": [
    "shipping_data = shipping_data.merge(seasonality, how = 'inner', on = ['MMSI','dt'])"
   ]
  },
  {
   "cell_type": "markdown",
   "metadata": {},
   "source": [
    "## Merge port loading data"
   ]
  },
  {
   "cell_type": "code",
   "execution_count": 13,
   "metadata": {},
   "outputs": [],
   "source": [
    "port_loading = pd.read_csv(processing_path + port_loading_filename, header = 0,delimiter = ',')\n",
    "port_loading['start_window'] = pd.to_datetime(port_loading['start_window'])\n",
    "port_loading['end_window'] = pd.to_datetime(port_loading['end_window'])"
   ]
  },
  {
   "cell_type": "code",
   "execution_count": 14,
   "metadata": {},
   "outputs": [],
   "source": [
    "shipping_data['start_window'] = shipping_data['dt'].dt.floor('1min')\n",
    "shipping_data['end_window'] = shipping_data['dt'].dt.ceil('1min')"
   ]
  },
  {
   "cell_type": "code",
   "execution_count": 15,
   "metadata": {},
   "outputs": [],
   "source": [
    "shipping_data = shipping_data.merge(port_loading, on = ['start_window','end_window'], how = 'inner')"
   ]
  },
  {
   "cell_type": "markdown",
   "metadata": {},
   "source": [
    "## Merge weather data"
   ]
  },
  {
   "cell_type": "code",
   "execution_count": 16,
   "metadata": {},
   "outputs": [],
   "source": [
    "weather = pd.read_csv(processing_path + weather_data_filename, header = 0,delimiter = ',')\n",
    "weather['YEARMODA'] = pd.to_datetime(weather['YEARMODA'])\n",
    "weather['YEARMODA'] = weather['YEARMODA'].dt.date"
   ]
  },
  {
   "cell_type": "code",
   "execution_count": 17,
   "metadata": {},
   "outputs": [],
   "source": [
    "# give some more meaningful names\n",
    "rename_dict = {'TEMP':'temp',\n",
    "               'DEWP':'dew_point',\n",
    "               'SLP':'sea_lev_pressure',\n",
    "               'STP':'station_pressure',\n",
    "               'VISIB':'visibility',\n",
    "               'WDSP':'wind_speed',\n",
    "               'MXSPD':'max_wind_speed',\n",
    "               'MAX':'max_temp',\n",
    "               'MIN':'min_temp',\n",
    "               'FRSHTT':'fog_rain_driz_snow_ice'}\n",
    "weather.rename(columns = rename_dict, inplace = True)\n",
    "weather.drop(['STN'],axis = 1,inplace = True)"
   ]
  },
  {
   "cell_type": "code",
   "execution_count": 18,
   "metadata": {},
   "outputs": [],
   "source": [
    "# add the merge key to the features dataset\n",
    "shipping_data['YEARMODA'] = shipping_data['dt'].dt.date"
   ]
  },
  {
   "cell_type": "code",
   "execution_count": 19,
   "metadata": {},
   "outputs": [],
   "source": [
    "shipping_data = shipping_data.merge(weather, on = 'YEARMODA', how = 'inner')"
   ]
  },
  {
   "cell_type": "markdown",
   "metadata": {},
   "source": [
    "## Ship dynamics"
   ]
  },
  {
   "cell_type": "code",
   "execution_count": 20,
   "metadata": {},
   "outputs": [],
   "source": [
    "ship_dynamics = pd.read_csv(processing_path + ship_dynamics_filename, header = 0,delimiter = ',')\n",
    "ship_dynamics['dt'] = pd.to_datetime(ship_dynamics['dt'])"
   ]
  },
  {
   "cell_type": "code",
   "execution_count": 21,
   "metadata": {},
   "outputs": [],
   "source": [
    "shipping_data = shipping_data.merge(ship_dynamics[['MMSI','dt','accel','port_dist']], how = 'left', on = ['MMSI','dt'])"
   ]
  },
  {
   "cell_type": "markdown",
   "metadata": {},
   "source": [
    "## Export Data"
   ]
  },
  {
   "cell_type": "code",
   "execution_count": 22,
   "metadata": {},
   "outputs": [],
   "source": [
    "shipping_data.to_csv(processing_path + features_filename,header=True,index=False,sep=',')"
   ]
  },
  {
   "cell_type": "code",
   "execution_count": 23,
   "metadata": {},
   "outputs": [
    {
     "data": {
      "text/html": [
       "<div>\n",
       "<style scoped>\n",
       "    .dataframe tbody tr th:only-of-type {\n",
       "        vertical-align: middle;\n",
       "    }\n",
       "\n",
       "    .dataframe tbody tr th {\n",
       "        vertical-align: top;\n",
       "    }\n",
       "\n",
       "    .dataframe thead th {\n",
       "        text-align: right;\n",
       "    }\n",
       "</style>\n",
       "<table border=\"1\" class=\"dataframe\">\n",
       "  <thead>\n",
       "    <tr style=\"text-align: right;\">\n",
       "      <th></th>\n",
       "      <th>MMSI</th>\n",
       "      <th>SOG</th>\n",
       "      <th>gross_tonnage</th>\n",
       "      <th>lat</th>\n",
       "      <th>long</th>\n",
       "      <th>voyage_id</th>\n",
       "      <th>tripid</th>\n",
       "      <th>rot</th>\n",
       "      <th>arrivalDelayMin</th>\n",
       "      <th>previous_delays</th>\n",
       "      <th>...</th>\n",
       "      <th>sea_lev_pressure</th>\n",
       "      <th>station_pressure</th>\n",
       "      <th>visibility</th>\n",
       "      <th>wind_speed</th>\n",
       "      <th>max_wind_speed</th>\n",
       "      <th>max_temp</th>\n",
       "      <th>min_temp</th>\n",
       "      <th>fog_rain_driz_snow_ice</th>\n",
       "      <th>accel</th>\n",
       "      <th>port_dist</th>\n",
       "    </tr>\n",
       "  </thead>\n",
       "  <tbody>\n",
       "    <tr>\n",
       "      <th>count</th>\n",
       "      <td>1.131759e+06</td>\n",
       "      <td>1.131759e+06</td>\n",
       "      <td>1.131759e+06</td>\n",
       "      <td>1.131759e+06</td>\n",
       "      <td>1.131759e+06</td>\n",
       "      <td>1.131759e+06</td>\n",
       "      <td>1.131759e+06</td>\n",
       "      <td>1.128591e+06</td>\n",
       "      <td>1.131759e+06</td>\n",
       "      <td>561732.000000</td>\n",
       "      <td>...</td>\n",
       "      <td>1.125808e+06</td>\n",
       "      <td>1.125808e+06</td>\n",
       "      <td>1.125808e+06</td>\n",
       "      <td>1.125808e+06</td>\n",
       "      <td>1.125808e+06</td>\n",
       "      <td>1.125808e+06</td>\n",
       "      <td>1.125808e+06</td>\n",
       "      <td>1.125808e+06</td>\n",
       "      <td>1.130161e+06</td>\n",
       "      <td>1.003960e+06</td>\n",
       "    </tr>\n",
       "    <tr>\n",
       "      <th>mean</th>\n",
       "      <td>3.763103e+08</td>\n",
       "      <td>1.390241e+00</td>\n",
       "      <td>4.858576e+04</td>\n",
       "      <td>5.195493e+01</td>\n",
       "      <td>1.301660e+00</td>\n",
       "      <td>1.088642e+06</td>\n",
       "      <td>2.717542e+01</td>\n",
       "      <td>5.388764e+00</td>\n",
       "      <td>9.855130e+01</td>\n",
       "      <td>2.762917</td>\n",
       "      <td>...</td>\n",
       "      <td>1.019017e+03</td>\n",
       "      <td>1.018771e+03</td>\n",
       "      <td>3.450480e+01</td>\n",
       "      <td>8.663079e+00</td>\n",
       "      <td>1.350797e+01</td>\n",
       "      <td>1.462448e+01</td>\n",
       "      <td>7.401772e+00</td>\n",
       "      <td>1.597755e+04</td>\n",
       "      <td>1.286545e-04</td>\n",
       "      <td>1.771862e+03</td>\n",
       "    </tr>\n",
       "    <tr>\n",
       "      <th>std</th>\n",
       "      <td>1.666183e+08</td>\n",
       "      <td>3.461391e+00</td>\n",
       "      <td>5.840190e+04</td>\n",
       "      <td>6.938276e-03</td>\n",
       "      <td>8.656976e-03</td>\n",
       "      <td>3.607977e+04</td>\n",
       "      <td>6.473060e+01</td>\n",
       "      <td>7.714307e+00</td>\n",
       "      <td>1.028975e+03</td>\n",
       "      <td>4.384490</td>\n",
       "      <td>...</td>\n",
       "      <td>9.430611e+00</td>\n",
       "      <td>9.434266e+00</td>\n",
       "      <td>1.380212e+02</td>\n",
       "      <td>2.910903e+00</td>\n",
       "      <td>3.776399e+00</td>\n",
       "      <td>6.527290e+00</td>\n",
       "      <td>5.751391e+00</td>\n",
       "      <td>3.120908e+04</td>\n",
       "      <td>1.166457e-01</td>\n",
       "      <td>2.673516e+03</td>\n",
       "    </tr>\n",
       "    <tr>\n",
       "      <th>min</th>\n",
       "      <td>2.093220e+08</td>\n",
       "      <td>0.000000e+00</td>\n",
       "      <td>0.000000e+00</td>\n",
       "      <td>5.193531e+01</td>\n",
       "      <td>1.281933e+00</td>\n",
       "      <td>1.001116e+06</td>\n",
       "      <td>1.000000e+00</td>\n",
       "      <td>0.000000e+00</td>\n",
       "      <td>-1.236000e+04</td>\n",
       "      <td>0.000000</td>\n",
       "      <td>...</td>\n",
       "      <td>9.882000e+02</td>\n",
       "      <td>9.878000e+02</td>\n",
       "      <td>3.000000e-01</td>\n",
       "      <td>1.800000e+00</td>\n",
       "      <td>5.100000e+00</td>\n",
       "      <td>1.000000e+00</td>\n",
       "      <td>-5.000000e+00</td>\n",
       "      <td>0.000000e+00</td>\n",
       "      <td>-1.460000e+01</td>\n",
       "      <td>0.000000e+00</td>\n",
       "    </tr>\n",
       "    <tr>\n",
       "      <th>25%</th>\n",
       "      <td>2.299280e+08</td>\n",
       "      <td>0.000000e+00</td>\n",
       "      <td>6.326000e+03</td>\n",
       "      <td>5.194953e+01</td>\n",
       "      <td>1.294683e+00</td>\n",
       "      <td>1.064553e+06</td>\n",
       "      <td>4.000000e+00</td>\n",
       "      <td>2.330485e-01</td>\n",
       "      <td>-5.700000e+01</td>\n",
       "      <td>0.000000</td>\n",
       "      <td>...</td>\n",
       "      <td>1.014000e+03</td>\n",
       "      <td>1.013700e+03</td>\n",
       "      <td>9.400000e+00</td>\n",
       "      <td>6.500000e+00</td>\n",
       "      <td>1.110000e+01</td>\n",
       "      <td>1.000000e+01</td>\n",
       "      <td>3.000000e+00</td>\n",
       "      <td>0.000000e+00</td>\n",
       "      <td>0.000000e+00</td>\n",
       "      <td>2.506210e+02</td>\n",
       "    </tr>\n",
       "    <tr>\n",
       "      <th>50%</th>\n",
       "      <td>3.518190e+08</td>\n",
       "      <td>0.000000e+00</td>\n",
       "      <td>2.419600e+04</td>\n",
       "      <td>5.195705e+01</td>\n",
       "      <td>1.302205e+00</td>\n",
       "      <td>1.090350e+06</td>\n",
       "      <td>8.000000e+00</td>\n",
       "      <td>1.930199e+00</td>\n",
       "      <td>1.100000e+01</td>\n",
       "      <td>1.000000</td>\n",
       "      <td>...</td>\n",
       "      <td>1.019300e+03</td>\n",
       "      <td>1.019000e+03</td>\n",
       "      <td>1.640000e+01</td>\n",
       "      <td>8.200000e+00</td>\n",
       "      <td>1.300000e+01</td>\n",
       "      <td>1.400000e+01</td>\n",
       "      <td>7.000000e+00</td>\n",
       "      <td>1.000000e+04</td>\n",
       "      <td>0.000000e+00</td>\n",
       "      <td>6.059190e+02</td>\n",
       "    </tr>\n",
       "    <tr>\n",
       "      <th>75%</th>\n",
       "      <td>5.631080e+08</td>\n",
       "      <td>1.400000e+00</td>\n",
       "      <td>7.288400e+04</td>\n",
       "      <td>5.196029e+01</td>\n",
       "      <td>1.309360e+00</td>\n",
       "      <td>1.116384e+06</td>\n",
       "      <td>2.000000e+01</td>\n",
       "      <td>7.910323e+00</td>\n",
       "      <td>1.260000e+02</td>\n",
       "      <td>3.000000</td>\n",
       "      <td>...</td>\n",
       "      <td>1.025300e+03</td>\n",
       "      <td>1.025000e+03</td>\n",
       "      <td>2.090000e+01</td>\n",
       "      <td>1.020000e+01</td>\n",
       "      <td>1.590000e+01</td>\n",
       "      <td>2.100000e+01</td>\n",
       "      <td>1.200000e+01</td>\n",
       "      <td>1.000000e+04</td>\n",
       "      <td>0.000000e+00</td>\n",
       "      <td>2.187710e+03</td>\n",
       "    </tr>\n",
       "    <tr>\n",
       "      <th>max</th>\n",
       "      <td>6.360926e+08</td>\n",
       "      <td>1.023000e+02</td>\n",
       "      <td>2.100000e+05</td>\n",
       "      <td>5.196582e+01</td>\n",
       "      <td>1.320850e+00</td>\n",
       "      <td>1.163320e+06</td>\n",
       "      <td>4.310000e+02</td>\n",
       "      <td>3.469213e+02</td>\n",
       "      <td>4.302500e+04</td>\n",
       "      <td>24.000000</td>\n",
       "      <td>...</td>\n",
       "      <td>1.043300e+03</td>\n",
       "      <td>1.043000e+03</td>\n",
       "      <td>9.999000e+02</td>\n",
       "      <td>2.030000e+01</td>\n",
       "      <td>3.090000e+01</td>\n",
       "      <td>3.000000e+01</td>\n",
       "      <td>1.900000e+01</td>\n",
       "      <td>1.100000e+05</td>\n",
       "      <td>1.278750e+01</td>\n",
       "      <td>1.336753e+04</td>\n",
       "    </tr>\n",
       "  </tbody>\n",
       "</table>\n",
       "<p>8 rows × 64 columns</p>\n",
       "</div>"
      ],
      "text/plain": [
       "               MMSI           SOG  gross_tonnage           lat          long  \\\n",
       "count  1.131759e+06  1.131759e+06   1.131759e+06  1.131759e+06  1.131759e+06   \n",
       "mean   3.763103e+08  1.390241e+00   4.858576e+04  5.195493e+01  1.301660e+00   \n",
       "std    1.666183e+08  3.461391e+00   5.840190e+04  6.938276e-03  8.656976e-03   \n",
       "min    2.093220e+08  0.000000e+00   0.000000e+00  5.193531e+01  1.281933e+00   \n",
       "25%    2.299280e+08  0.000000e+00   6.326000e+03  5.194953e+01  1.294683e+00   \n",
       "50%    3.518190e+08  0.000000e+00   2.419600e+04  5.195705e+01  1.302205e+00   \n",
       "75%    5.631080e+08  1.400000e+00   7.288400e+04  5.196029e+01  1.309360e+00   \n",
       "max    6.360926e+08  1.023000e+02   2.100000e+05  5.196582e+01  1.320850e+00   \n",
       "\n",
       "          voyage_id        tripid           rot  arrivalDelayMin  \\\n",
       "count  1.131759e+06  1.131759e+06  1.128591e+06     1.131759e+06   \n",
       "mean   1.088642e+06  2.717542e+01  5.388764e+00     9.855130e+01   \n",
       "std    3.607977e+04  6.473060e+01  7.714307e+00     1.028975e+03   \n",
       "min    1.001116e+06  1.000000e+00  0.000000e+00    -1.236000e+04   \n",
       "25%    1.064553e+06  4.000000e+00  2.330485e-01    -5.700000e+01   \n",
       "50%    1.090350e+06  8.000000e+00  1.930199e+00     1.100000e+01   \n",
       "75%    1.116384e+06  2.000000e+01  7.910323e+00     1.260000e+02   \n",
       "max    1.163320e+06  4.310000e+02  3.469213e+02     4.302500e+04   \n",
       "\n",
       "       previous_delays      ...       sea_lev_pressure  station_pressure  \\\n",
       "count    561732.000000      ...           1.125808e+06      1.125808e+06   \n",
       "mean          2.762917      ...           1.019017e+03      1.018771e+03   \n",
       "std           4.384490      ...           9.430611e+00      9.434266e+00   \n",
       "min           0.000000      ...           9.882000e+02      9.878000e+02   \n",
       "25%           0.000000      ...           1.014000e+03      1.013700e+03   \n",
       "50%           1.000000      ...           1.019300e+03      1.019000e+03   \n",
       "75%           3.000000      ...           1.025300e+03      1.025000e+03   \n",
       "max          24.000000      ...           1.043300e+03      1.043000e+03   \n",
       "\n",
       "         visibility    wind_speed  max_wind_speed      max_temp      min_temp  \\\n",
       "count  1.125808e+06  1.125808e+06    1.125808e+06  1.125808e+06  1.125808e+06   \n",
       "mean   3.450480e+01  8.663079e+00    1.350797e+01  1.462448e+01  7.401772e+00   \n",
       "std    1.380212e+02  2.910903e+00    3.776399e+00  6.527290e+00  5.751391e+00   \n",
       "min    3.000000e-01  1.800000e+00    5.100000e+00  1.000000e+00 -5.000000e+00   \n",
       "25%    9.400000e+00  6.500000e+00    1.110000e+01  1.000000e+01  3.000000e+00   \n",
       "50%    1.640000e+01  8.200000e+00    1.300000e+01  1.400000e+01  7.000000e+00   \n",
       "75%    2.090000e+01  1.020000e+01    1.590000e+01  2.100000e+01  1.200000e+01   \n",
       "max    9.999000e+02  2.030000e+01    3.090000e+01  3.000000e+01  1.900000e+01   \n",
       "\n",
       "       fog_rain_driz_snow_ice         accel     port_dist  \n",
       "count            1.125808e+06  1.130161e+06  1.003960e+06  \n",
       "mean             1.597755e+04  1.286545e-04  1.771862e+03  \n",
       "std              3.120908e+04  1.166457e-01  2.673516e+03  \n",
       "min              0.000000e+00 -1.460000e+01  0.000000e+00  \n",
       "25%              0.000000e+00  0.000000e+00  2.506210e+02  \n",
       "50%              1.000000e+04  0.000000e+00  6.059190e+02  \n",
       "75%              1.000000e+04  0.000000e+00  2.187710e+03  \n",
       "max              1.100000e+05  1.278750e+01  1.336753e+04  \n",
       "\n",
       "[8 rows x 64 columns]"
      ]
     },
     "execution_count": 23,
     "metadata": {},
     "output_type": "execute_result"
    }
   ],
   "source": [
    "shipping_data.describe()"
   ]
  }
 ],
 "metadata": {
  "kernelspec": {
   "display_name": "Python 3",
   "language": "python",
   "name": "python3"
  },
  "language_info": {
   "codemirror_mode": {
    "name": "ipython",
    "version": 3
   },
   "file_extension": ".py",
   "mimetype": "text/x-python",
   "name": "python",
   "nbconvert_exporter": "python",
   "pygments_lexer": "ipython3",
   "version": "3.6.4"
  }
 },
 "nbformat": 4,
 "nbformat_minor": 2
}
