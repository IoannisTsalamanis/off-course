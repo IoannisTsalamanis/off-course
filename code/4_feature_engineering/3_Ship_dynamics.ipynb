{
 "cells": [
  {
   "cell_type": "markdown",
   "metadata": {},
   "source": [
    "# Ship Dynamics\n",
    "Calculate ship acceleration and distance between ports."
   ]
  },
  {
   "cell_type": "code",
   "execution_count": 1,
   "metadata": {},
   "outputs": [],
   "source": [
    "# base libraries\n",
    "import pandas as pd\n",
    "import os\n",
    "import json"
   ]
  },
  {
   "cell_type": "code",
   "execution_count": 2,
   "metadata": {},
   "outputs": [],
   "source": [
    "# set variable from config file\n",
    "config_path = os.path.abspath('..')\n",
    "\n",
    "with open(config_path + '/config.json', 'r') as f:\n",
    "    config = json.load(f)\n",
    "\n",
    "processing_path = config['DEFAULT']['processing_path']\n",
    "shipping_rot_filename = config['DEFAULT']['shipping_rot_filename']\n",
    "port_data1 = config['DEFAULT']['port_data1']\n",
    "port_data2 = config['DEFAULT']['port_data2']\n",
    "port_data3 = config['DEFAULT']['port_data3']\n",
    "port_distance_prep_filename = config['DEFAULT']['port_distance_prep_filename']\n",
    "walking_distance_filename = config['DEFAULT']['walking_distance_filename']\n",
    "ship_dynamics_filename = config['DEFAULT']['ship_dynamics_filename']"
   ]
  },
  {
   "cell_type": "code",
   "execution_count": 3,
   "metadata": {},
   "outputs": [],
   "source": [
    "# import data\n",
    "dtype_dic = {'MMSI':int,'dt':'str', 'lat':'float', 'long':'float','SOG':'float', 'rot':'float', \n",
    "             'Type':'str', 'gross_tonnage':'float','vessel_name':'str', 'ETA':'str', 'POC_LOCODE':'str',\n",
    "             'last_port_LOCODE':'str', 'next_port_LOCODE':'str', 'status':'str','voyage_id':'float','tripid':int,\n",
    "            'in_hazmat':'str','out_hazmat':'str'}\n",
    "parse_dates = ['dt', 'ETA']\n",
    "\n",
    "shipping_data = pd.read_csv(processing_path + shipping_rot_filename,header = 0,delimiter = ',',dtype = dtype_dic, parse_dates=parse_dates)\n",
    "\n",
    "# keep only necessary columns\n",
    "CERS_data = shipping_data[['MMSI','dt','tripid','POC_LOCODE', 'last_port_LOCODE', 'next_port_LOCODE']]\n",
    "CERS_data = CERS_data.dropna(subset=['POC_LOCODE','last_port_LOCODE'])\n",
    "CERS_data.drop_duplicates(subset=['MMSI','tripid'],keep = 'first', inplace = True)"
   ]
  },
  {
   "cell_type": "markdown",
   "metadata": {},
   "source": [
    "Import worldwide port locations and names and keep only necessary features\n",
    "\n",
    "Downloaded from https://www.unece.org/cefact/codesfortrade/codes_index.html "
   ]
  },
  {
   "cell_type": "code",
   "execution_count": 4,
   "metadata": {},
   "outputs": [],
   "source": [
    "# import port data\n",
    "data_ports1 = pd.read_csv(processing_path + port_data1, header=None, sep = ',', encoding='latin1')\n",
    "data_ports2 = pd.read_csv(processing_path + port_data2, header=None, sep = ',', encoding='latin1')\n",
    "data_ports3 = pd.read_csv(processing_path + port_data3, header=None, sep = ',', encoding='latin1')"
   ]
  },
  {
   "cell_type": "code",
   "execution_count": 5,
   "metadata": {},
   "outputs": [],
   "source": [
    "# append port data and tidy up\n",
    "data_ports = data_ports1.append(data_ports2)\n",
    "data_ports = data_ports.append(data_ports3)\n",
    "# drop missing port codes\n",
    "data_ports = data_ports.dropna(subset=[2])\n",
    "# only keep necessary columns\n",
    "data_ports = data_ports[[1,2,4,10]]\n",
    "data_ports['LOCODE'] = data_ports[1] + data_ports[2]\n",
    "data_ports.rename(columns={4:'last_port_name', 10:'Coordinates'}, inplace=True)\n",
    "data_ports.drop([1,2],inplace=True)"
   ]
  },
  {
   "cell_type": "code",
   "execution_count": 6,
   "metadata": {},
   "outputs": [],
   "source": [
    "# rename port names so that can be found from the mapdist function later\n",
    "orig_port_names = ['Dunkirk','Liverpool','Montrose','Teesport','Piraeus','Colombo','Leixoes','Southampton']\n",
    "new_port_names = {'Dunkirk':'Dunkerque','Liverpool':'Liverpool Port','Montrose':'Montrose Port','Teesport':'Tees Sport',\n",
    "                  'Piraeus':'Pireas','Colombo':'Colombo Sri Lanka','Leixoes':'Porto','Southampton':'Southampton Port'}\n",
    "\n",
    "for n in orig_port_names:\n",
    "    data_ports['last_port_name'].str.replace(n,new_port_names[n])"
   ]
  },
  {
   "cell_type": "code",
   "execution_count": 7,
   "metadata": {},
   "outputs": [],
   "source": [
    "# merge port names to shipping data\n",
    "CERS_data = CERS_data.merge(data_ports[['LOCODE','last_port_name']],how='inner',left_on='last_port_LOCODE',\n",
    "                                   right_on = 'LOCODE')\n",
    "CERS_data = CERS_data.merge(data_ports[['LOCODE','last_port_name']],how='inner',left_on='POC_LOCODE',\n",
    "                                    right_on = 'LOCODE')\n",
    "\n",
    "CERS_data.drop(['LOCODE_x','LOCODE_y'], inplace=True, axis=1)\n",
    "CERS_data.rename(columns={'last_port_name_x':'last_port_name','last_port_name_y':'port_name'},inplace=True)"
   ]
  },
  {
   "cell_type": "code",
   "execution_count": 8,
   "metadata": {},
   "outputs": [],
   "source": [
    "# find unique pair combinations between ports\n",
    "unique_trips = CERS_data[['port_name','last_port_name']].copy()\n",
    "\n",
    "unique_trips.drop_duplicates(keep = 'first', inplace = True)\n",
    "unique_trips = unique_trips.reset_index(drop=True)"
   ]
  },
  {
   "cell_type": "markdown",
   "metadata": {},
   "source": [
    "Calculate distances between ports using walking mode. Driving mode would not work for long distances or ports in Asia"
   ]
  },
  {
   "cell_type": "code",
   "execution_count": 9,
   "metadata": {},
   "outputs": [],
   "source": [
    "unique_trips.to_csv(processing_path + port_distance_prep_filename,header=True,index=False,sep=',')"
   ]
  },
  {
   "cell_type": "markdown",
   "metadata": {},
   "source": [
    "As R has a nicer libary for calculating walking distance the next step is performed in 3a_port_distance(R)"
   ]
  },
  {
   "cell_type": "code",
   "execution_count": 11,
   "metadata": {},
   "outputs": [],
   "source": [
    "walking_distance = pd.read_csv(processing_path + walking_distance_filename,header = 0,delimiter = ',')\n",
    "walking_distance.drop('Unnamed: 0',axis=1,inplace=True)"
   ]
  },
  {
   "cell_type": "code",
   "execution_count": 12,
   "metadata": {},
   "outputs": [],
   "source": [
    "CERS_data = CERS_data.merge(walking_distance, how = 'inner', on = ['port_name','last_port_name'])"
   ]
  },
  {
   "cell_type": "markdown",
   "metadata": {},
   "source": [
    "## Acceleration"
   ]
  },
  {
   "cell_type": "code",
   "execution_count": 13,
   "metadata": {},
   "outputs": [],
   "source": [
    "accel = shipping_data[['MMSI','dt','tripid','SOG']].copy(deep = True)\n",
    "\n",
    "accel.sort_values(['MMSI','dt'],inplace = True)\n",
    "\n",
    "accel['lag_dt'] = accel.groupby(['MMSI','tripid'])['dt'].shift(1)\n",
    "accel['lag_SOG'] = accel.groupby(['MMSI','tripid'])['SOG'].shift(1)\n",
    "accel['dt_delta'] = (accel['dt'] - accel['lag_dt']).dt.total_seconds()\n",
    "accel['accel'] = (accel['SOG'] - accel['lag_SOG'])/accel['dt_delta']\n",
    "\n",
    "accel.drop(['lag_dt','lag_SOG','dt_delta'], axis=1, inplace=True)"
   ]
  },
  {
   "cell_type": "markdown",
   "metadata": {},
   "source": [
    "## Export Data"
   ]
  },
  {
   "cell_type": "code",
   "execution_count": 14,
   "metadata": {},
   "outputs": [],
   "source": [
    "ship_dynamics = accel.merge(CERS_data[['MMSI','tripid','port_dist']], how = 'left', on = ['MMSI','tripid'])"
   ]
  },
  {
   "cell_type": "code",
   "execution_count": 15,
   "metadata": {},
   "outputs": [],
   "source": [
    "ship_dynamics.to_csv(processing_path + ship_dynamics_filename,header=True,index=False,sep=',')"
   ]
  },
  {
   "cell_type": "code",
   "execution_count": 17,
   "metadata": {},
   "outputs": [
    {
     "data": {
      "text/html": [
       "<div>\n",
       "<style scoped>\n",
       "    .dataframe tbody tr th:only-of-type {\n",
       "        vertical-align: middle;\n",
       "    }\n",
       "\n",
       "    .dataframe tbody tr th {\n",
       "        vertical-align: top;\n",
       "    }\n",
       "\n",
       "    .dataframe thead th {\n",
       "        text-align: right;\n",
       "    }\n",
       "</style>\n",
       "<table border=\"1\" class=\"dataframe\">\n",
       "  <thead>\n",
       "    <tr style=\"text-align: right;\">\n",
       "      <th></th>\n",
       "      <th>MMSI</th>\n",
       "      <th>tripid</th>\n",
       "      <th>SOG</th>\n",
       "      <th>accel</th>\n",
       "      <th>port_dist</th>\n",
       "    </tr>\n",
       "  </thead>\n",
       "  <tbody>\n",
       "    <tr>\n",
       "      <th>count</th>\n",
       "      <td>10765119</td>\n",
       "      <td>10765119</td>\n",
       "      <td>10765119</td>\n",
       "      <td>10751531</td>\n",
       "      <td>3945602</td>\n",
       "    </tr>\n",
       "    <tr>\n",
       "      <th>mean</th>\n",
       "      <td>277389392</td>\n",
       "      <td>107</td>\n",
       "      <td>14</td>\n",
       "      <td>0</td>\n",
       "      <td>1161</td>\n",
       "    </tr>\n",
       "    <tr>\n",
       "      <th>std</th>\n",
       "      <td>108990305</td>\n",
       "      <td>119</td>\n",
       "      <td>8</td>\n",
       "      <td>0</td>\n",
       "      <td>2152</td>\n",
       "    </tr>\n",
       "    <tr>\n",
       "      <th>min</th>\n",
       "      <td>41491304</td>\n",
       "      <td>1</td>\n",
       "      <td>0</td>\n",
       "      <td>-100</td>\n",
       "      <td>0</td>\n",
       "    </tr>\n",
       "    <tr>\n",
       "      <th>25%</th>\n",
       "      <td>235078345</td>\n",
       "      <td>7</td>\n",
       "      <td>8</td>\n",
       "      <td>0</td>\n",
       "      <td>239</td>\n",
       "    </tr>\n",
       "    <tr>\n",
       "      <th>50%</th>\n",
       "      <td>235099364</td>\n",
       "      <td>60</td>\n",
       "      <td>15</td>\n",
       "      <td>0</td>\n",
       "      <td>319</td>\n",
       "    </tr>\n",
       "    <tr>\n",
       "      <th>75%</th>\n",
       "      <td>246171000</td>\n",
       "      <td>186</td>\n",
       "      <td>23</td>\n",
       "      <td>0</td>\n",
       "      <td>1334</td>\n",
       "    </tr>\n",
       "    <tr>\n",
       "      <th>max</th>\n",
       "      <td>970013941</td>\n",
       "      <td>693</td>\n",
       "      <td>102</td>\n",
       "      <td>97</td>\n",
       "      <td>13367</td>\n",
       "    </tr>\n",
       "  </tbody>\n",
       "</table>\n",
       "</div>"
      ],
      "text/plain": [
       "            MMSI    tripid       SOG     accel  port_dist\n",
       "count   10765119  10765119  10765119  10751531    3945602\n",
       "mean   277389392       107        14         0       1161\n",
       "std    108990305       119         8         0       2152\n",
       "min     41491304         1         0      -100          0\n",
       "25%    235078345         7         8         0        239\n",
       "50%    235099364        60        15         0        319\n",
       "75%    246171000       186        23         0       1334\n",
       "max    970013941       693       102        97      13367"
      ]
     },
     "execution_count": 17,
     "metadata": {},
     "output_type": "execute_result"
    }
   ],
   "source": [
    "ship_dynamics.describe().astype(int)"
   ]
  }
 ],
 "metadata": {
  "kernelspec": {
   "display_name": "Python 3",
   "language": "python",
   "name": "python3"
  },
  "language_info": {
   "codemirror_mode": {
    "name": "ipython",
    "version": 3
   },
   "file_extension": ".py",
   "mimetype": "text/x-python",
   "name": "python",
   "nbconvert_exporter": "python",
   "pygments_lexer": "ipython3",
   "version": "3.6.4"
  }
 },
 "nbformat": 4,
 "nbformat_minor": 2
}
